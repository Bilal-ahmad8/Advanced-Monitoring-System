{
  "cells": [
    {
      "cell_type": "code",
      "execution_count": null,
      "metadata": {
        "id": "3gtfKDukQWGt"
      },
      "outputs": [],
      "source": [
        "import pandas as pd\n",
        "import numpy as np\n",
        "import torch\n",
        "import torch.nn as nn\n",
        "import torch.optim as optim\n",
        "from torch.utils.data import Dataset , DataLoader\n",
        "\n",
        "import optuna\n",
        "import mlflow\n",
        "import dagshub"
      ]
    },
    {
      "cell_type": "code",
      "execution_count": 4,
      "metadata": {
        "colab": {
          "base_uri": "https://localhost:8080/",
          "height": 211,
          "referenced_widgets": [
            "dc76464366d246b5802aca86ca0f0d04",
            "d7b0495ef5a2465b8c8895c4c2483f74"
          ]
        },
        "id": "2AoOl3BjDF8h",
        "outputId": "e9bba32a-1e76-46fc-bc45-75288947d2b0"
      },
      "outputs": [
        {
          "data": {
            "text/html": [
              "<pre style=\"white-space:pre;overflow-x:auto;line-height:normal;font-family:Menlo,'DejaVu Sans Mono',consolas,'Courier New',monospace\">                                       <span style=\"font-weight: bold\">❗❗❗ AUTHORIZATION REQUIRED ❗❗❗</span>                                        \n",
              "</pre>\n"
            ],
            "text/plain": [
              "                                       \u001b[1m❗❗❗ AUTHORIZATION REQUIRED ❗❗❗\u001b[0m                                        \n"
            ]
          },
          "metadata": {},
          "output_type": "display_data"
        },
        {
          "data": {
            "application/vnd.jupyter.widget-view+json": {
              "model_id": "dc76464366d246b5802aca86ca0f0d04",
              "version_major": 2,
              "version_minor": 0
            },
            "text/plain": [
              "Output()"
            ]
          },
          "metadata": {},
          "output_type": "display_data"
        },
        {
          "name": "stdout",
          "output_type": "stream",
          "text": [
            "\n",
            "\n",
            "Open the following link in your browser to authorize the client:\n",
            "https://dagshub.com/login/oauth/authorize?state=8dad9ea4-129c-4c68-a99e-48ab5c45ade5&client_id=32b60ba385aa7cecf24046d8195a71c07dd345d9657977863b52e7748e0f0f28&middleman_request_id=a19027fe7dd7a9cf76bdd680085e2c78b8a1e0b269670e7d32d62d1609da68a2\n",
            "\n",
            "\n"
          ]
        },
        {
          "data": {
            "text/html": [
              "<pre style=\"white-space:pre;overflow-x:auto;line-height:normal;font-family:Menlo,'DejaVu Sans Mono',consolas,'Courier New',monospace\"></pre>\n"
            ],
            "text/plain": []
          },
          "metadata": {},
          "output_type": "display_data"
        },
        {
          "data": {
            "text/html": [
              "<pre style=\"white-space:pre;overflow-x:auto;line-height:normal;font-family:Menlo,'DejaVu Sans Mono',consolas,'Courier New',monospace\">Accessing as Bilal-ahmad8\n",
              "</pre>\n"
            ],
            "text/plain": [
              "Accessing as Bilal-ahmad8\n"
            ]
          },
          "metadata": {},
          "output_type": "display_data"
        },
        {
          "data": {
            "text/html": [
              "<pre style=\"white-space:pre;overflow-x:auto;line-height:normal;font-family:Menlo,'DejaVu Sans Mono',consolas,'Courier New',monospace\">Initialized MLflow to track repo <span style=\"color: #008000; text-decoration-color: #008000\">\"Bilal-ahmad8/Advanced-Monitoring-System\"</span>\n",
              "</pre>\n"
            ],
            "text/plain": [
              "Initialized MLflow to track repo \u001b[32m\"Bilal-ahmad8/Advanced-Monitoring-System\"\u001b[0m\n"
            ]
          },
          "metadata": {},
          "output_type": "display_data"
        },
        {
          "data": {
            "text/html": [
              "<pre style=\"white-space:pre;overflow-x:auto;line-height:normal;font-family:Menlo,'DejaVu Sans Mono',consolas,'Courier New',monospace\">Repository Bilal-ahmad8/Advanced-Monitoring-System initialized!\n",
              "</pre>\n"
            ],
            "text/plain": [
              "Repository Bilal-ahmad8/Advanced-Monitoring-System initialized!\n"
            ]
          },
          "metadata": {},
          "output_type": "display_data"
        }
      ],
      "source": [
        "dagshub.init(repo_owner='Bilal-ahmad8', repo_name='Advanced-Monitoring-System', mlflow=True)"
      ]
    },
    {
      "cell_type": "code",
      "execution_count": 5,
      "metadata": {
        "colab": {
          "base_uri": "https://localhost:8080/"
        },
        "id": "lxebB_qgp9_z",
        "outputId": "9ce68c24-851c-4425-b210-d13734b0f0d8"
      },
      "outputs": [
        {
          "name": "stdout",
          "output_type": "stream",
          "text": [
            "cuda\n"
          ]
        }
      ],
      "source": [
        "device = torch.device('cuda' if torch.cuda.is_available() else 'cpu')\n",
        "print(device)"
      ]
    },
    {
      "cell_type": "code",
      "execution_count": 6,
      "metadata": {
        "colab": {
          "base_uri": "https://localhost:8080/"
        },
        "id": "8EWuuzXTpP-3",
        "outputId": "947f8ae6-339a-465b-9069-f431cbbbef26"
      },
      "outputs": [
        {
          "data": {
            "text/plain": [
              "<torch._C.Generator at 0x7d6a0e7cd030>"
            ]
          },
          "execution_count": 6,
          "metadata": {},
          "output_type": "execute_result"
        }
      ],
      "source": [
        "torch.manual_seed(42)"
      ]
    },
    {
      "cell_type": "code",
      "execution_count": 7,
      "metadata": {
        "id": "TRFiefabl75F"
      },
      "outputs": [],
      "source": [
        "train_data = pd.read_csv('Training_df.csv')\n",
        "val_data = pd.read_csv('Validation_df.csv')"
      ]
    },
    {
      "cell_type": "code",
      "execution_count": 8,
      "metadata": {
        "colab": {
          "base_uri": "https://localhost:8080/",
          "height": 206
        },
        "id": "T4saQsSOnqHo",
        "outputId": "07ef9920-023f-40c5-f435-2e2a1053bac5"
      },
      "outputs": [
        {
          "data": {
            "application/vnd.google.colaboratory.intrinsic+json": {
              "summary": "{\n  \"name\": \"train_data\",\n  \"rows\": 270,\n  \"fields\": [\n    {\n      \"column\": \"timestamp\",\n      \"properties\": {\n        \"dtype\": \"object\",\n        \"num_unique_values\": 270,\n        \"samples\": [\n          \"2025-06-18 09:03:00\",\n          \"2025-06-18 09:46:00\",\n          \"2025-06-18 09:27:30\"\n        ],\n        \"semantic_type\": \"\",\n        \"description\": \"\"\n      }\n    },\n    {\n      \"column\": \"cpu_usage\",\n      \"properties\": {\n        \"dtype\": \"number\",\n        \"std\": 0.13496260754050185,\n        \"min\": 0.0,\n        \"max\": 1.0,\n        \"num_unique_values\": 257,\n        \"samples\": [\n          0.2172238918106686,\n          0.4116265965439519,\n          0.3106686701728024\n        ],\n        \"semantic_type\": \"\",\n        \"description\": \"\"\n      }\n    },\n    {\n      \"column\": \"memory_available\",\n      \"properties\": {\n        \"dtype\": \"number\",\n        \"std\": 0.234854661584392,\n        \"min\": 0.0,\n        \"max\": 1.0000000000000002,\n        \"num_unique_values\": 270,\n        \"samples\": [\n          0.7974198626189681,\n          0.116609750957247,\n          0.1952205724644844\n        ],\n        \"semantic_type\": \"\",\n        \"description\": \"\"\n      }\n    },\n    {\n      \"column\": \"disk_read\",\n      \"properties\": {\n        \"dtype\": \"number\",\n        \"std\": 0.23469686092295786,\n        \"min\": 0.0,\n        \"max\": 1.0,\n        \"num_unique_values\": 215,\n        \"samples\": [\n          0.0017628140923146,\n          0.0002452399770299,\n          0.0020347633737736\n        ],\n        \"semantic_type\": \"\",\n        \"description\": \"\"\n      }\n    },\n    {\n      \"column\": \"disk_write\",\n      \"properties\": {\n        \"dtype\": \"number\",\n        \"std\": 0.21057449658757652,\n        \"min\": 0.0,\n        \"max\": 1.0,\n        \"num_unique_values\": 262,\n        \"samples\": [\n          0.0045428253904295,\n          0.6847123202204474,\n          0.0023916448407411\n        ],\n        \"semantic_type\": \"\",\n        \"description\": \"\"\n      }\n    },\n    {\n      \"column\": \"network_receive\",\n      \"properties\": {\n        \"dtype\": \"number\",\n        \"std\": 0.15068688938439556,\n        \"min\": 0.0,\n        \"max\": 1.0,\n        \"num_unique_values\": 270,\n        \"samples\": [\n          0.000377764900355,\n          0.0048668243887263,\n          0.0013442907447815\n        ],\n        \"semantic_type\": \"\",\n        \"description\": \"\"\n      }\n    },\n    {\n      \"column\": \"network_transmit\",\n      \"properties\": {\n        \"dtype\": \"number\",\n        \"std\": 0.1225773293425767,\n        \"min\": 0.0,\n        \"max\": 1.0,\n        \"num_unique_values\": 270,\n        \"samples\": [\n          0.0010113453026437,\n          0.0442579965146092,\n          0.0045439408194871\n        ],\n        \"semantic_type\": \"\",\n        \"description\": \"\"\n      }\n    }\n  ]\n}",
              "type": "dataframe",
              "variable_name": "train_data"
            },
            "text/html": [
              "\n",
              "  <div id=\"df-86264f2c-6ecc-46bb-b73d-a40e206c6ecd\" class=\"colab-df-container\">\n",
              "    <div>\n",
              "<style scoped>\n",
              "    .dataframe tbody tr th:only-of-type {\n",
              "        vertical-align: middle;\n",
              "    }\n",
              "\n",
              "    .dataframe tbody tr th {\n",
              "        vertical-align: top;\n",
              "    }\n",
              "\n",
              "    .dataframe thead th {\n",
              "        text-align: right;\n",
              "    }\n",
              "</style>\n",
              "<table border=\"1\" class=\"dataframe\">\n",
              "  <thead>\n",
              "    <tr style=\"text-align: right;\">\n",
              "      <th></th>\n",
              "      <th>timestamp</th>\n",
              "      <th>cpu_usage</th>\n",
              "      <th>memory_available</th>\n",
              "      <th>disk_read</th>\n",
              "      <th>disk_write</th>\n",
              "      <th>network_receive</th>\n",
              "      <th>network_transmit</th>\n",
              "    </tr>\n",
              "  </thead>\n",
              "  <tbody>\n",
              "    <tr>\n",
              "      <th>0</th>\n",
              "      <td>2025-06-18 08:48:00</td>\n",
              "      <td>0.724931</td>\n",
              "      <td>0.746927</td>\n",
              "      <td>0.802243</td>\n",
              "      <td>0.010949</td>\n",
              "      <td>0.018548</td>\n",
              "      <td>0.063189</td>\n",
              "    </tr>\n",
              "    <tr>\n",
              "      <th>1</th>\n",
              "      <td>2025-06-18 08:48:30</td>\n",
              "      <td>0.247370</td>\n",
              "      <td>0.731033</td>\n",
              "      <td>1.000000</td>\n",
              "      <td>0.011040</td>\n",
              "      <td>0.014776</td>\n",
              "      <td>0.050499</td>\n",
              "    </tr>\n",
              "    <tr>\n",
              "      <th>2</th>\n",
              "      <td>2025-06-18 08:49:00</td>\n",
              "      <td>0.285406</td>\n",
              "      <td>0.729110</td>\n",
              "      <td>0.367237</td>\n",
              "      <td>0.002847</td>\n",
              "      <td>0.000205</td>\n",
              "      <td>0.000320</td>\n",
              "    </tr>\n",
              "    <tr>\n",
              "      <th>3</th>\n",
              "      <td>2025-06-18 08:49:30</td>\n",
              "      <td>0.438017</td>\n",
              "      <td>0.738016</td>\n",
              "      <td>0.021358</td>\n",
              "      <td>0.001111</td>\n",
              "      <td>0.000761</td>\n",
              "      <td>0.003752</td>\n",
              "    </tr>\n",
              "    <tr>\n",
              "      <th>4</th>\n",
              "      <td>2025-06-18 08:50:00</td>\n",
              "      <td>0.214782</td>\n",
              "      <td>0.745808</td>\n",
              "      <td>0.000000</td>\n",
              "      <td>0.001976</td>\n",
              "      <td>0.000601</td>\n",
              "      <td>0.000559</td>\n",
              "    </tr>\n",
              "  </tbody>\n",
              "</table>\n",
              "</div>\n",
              "    <div class=\"colab-df-buttons\">\n",
              "\n",
              "  <div class=\"colab-df-container\">\n",
              "    <button class=\"colab-df-convert\" onclick=\"convertToInteractive('df-86264f2c-6ecc-46bb-b73d-a40e206c6ecd')\"\n",
              "            title=\"Convert this dataframe to an interactive table.\"\n",
              "            style=\"display:none;\">\n",
              "\n",
              "  <svg xmlns=\"http://www.w3.org/2000/svg\" height=\"24px\" viewBox=\"0 -960 960 960\">\n",
              "    <path d=\"M120-120v-720h720v720H120Zm60-500h600v-160H180v160Zm220 220h160v-160H400v160Zm0 220h160v-160H400v160ZM180-400h160v-160H180v160Zm440 0h160v-160H620v160ZM180-180h160v-160H180v160Zm440 0h160v-160H620v160Z\"/>\n",
              "  </svg>\n",
              "    </button>\n",
              "\n",
              "  <style>\n",
              "    .colab-df-container {\n",
              "      display:flex;\n",
              "      gap: 12px;\n",
              "    }\n",
              "\n",
              "    .colab-df-convert {\n",
              "      background-color: #E8F0FE;\n",
              "      border: none;\n",
              "      border-radius: 50%;\n",
              "      cursor: pointer;\n",
              "      display: none;\n",
              "      fill: #1967D2;\n",
              "      height: 32px;\n",
              "      padding: 0 0 0 0;\n",
              "      width: 32px;\n",
              "    }\n",
              "\n",
              "    .colab-df-convert:hover {\n",
              "      background-color: #E2EBFA;\n",
              "      box-shadow: 0px 1px 2px rgba(60, 64, 67, 0.3), 0px 1px 3px 1px rgba(60, 64, 67, 0.15);\n",
              "      fill: #174EA6;\n",
              "    }\n",
              "\n",
              "    .colab-df-buttons div {\n",
              "      margin-bottom: 4px;\n",
              "    }\n",
              "\n",
              "    [theme=dark] .colab-df-convert {\n",
              "      background-color: #3B4455;\n",
              "      fill: #D2E3FC;\n",
              "    }\n",
              "\n",
              "    [theme=dark] .colab-df-convert:hover {\n",
              "      background-color: #434B5C;\n",
              "      box-shadow: 0px 1px 3px 1px rgba(0, 0, 0, 0.15);\n",
              "      filter: drop-shadow(0px 1px 2px rgba(0, 0, 0, 0.3));\n",
              "      fill: #FFFFFF;\n",
              "    }\n",
              "  </style>\n",
              "\n",
              "    <script>\n",
              "      const buttonEl =\n",
              "        document.querySelector('#df-86264f2c-6ecc-46bb-b73d-a40e206c6ecd button.colab-df-convert');\n",
              "      buttonEl.style.display =\n",
              "        google.colab.kernel.accessAllowed ? 'block' : 'none';\n",
              "\n",
              "      async function convertToInteractive(key) {\n",
              "        const element = document.querySelector('#df-86264f2c-6ecc-46bb-b73d-a40e206c6ecd');\n",
              "        const dataTable =\n",
              "          await google.colab.kernel.invokeFunction('convertToInteractive',\n",
              "                                                    [key], {});\n",
              "        if (!dataTable) return;\n",
              "\n",
              "        const docLinkHtml = 'Like what you see? Visit the ' +\n",
              "          '<a target=\"_blank\" href=https://colab.research.google.com/notebooks/data_table.ipynb>data table notebook</a>'\n",
              "          + ' to learn more about interactive tables.';\n",
              "        element.innerHTML = '';\n",
              "        dataTable['output_type'] = 'display_data';\n",
              "        await google.colab.output.renderOutput(dataTable, element);\n",
              "        const docLink = document.createElement('div');\n",
              "        docLink.innerHTML = docLinkHtml;\n",
              "        element.appendChild(docLink);\n",
              "      }\n",
              "    </script>\n",
              "  </div>\n",
              "\n",
              "\n",
              "    <div id=\"df-2094b683-9f71-49d7-a08f-a5bb8e173748\">\n",
              "      <button class=\"colab-df-quickchart\" onclick=\"quickchart('df-2094b683-9f71-49d7-a08f-a5bb8e173748')\"\n",
              "                title=\"Suggest charts\"\n",
              "                style=\"display:none;\">\n",
              "\n",
              "<svg xmlns=\"http://www.w3.org/2000/svg\" height=\"24px\"viewBox=\"0 0 24 24\"\n",
              "     width=\"24px\">\n",
              "    <g>\n",
              "        <path d=\"M19 3H5c-1.1 0-2 .9-2 2v14c0 1.1.9 2 2 2h14c1.1 0 2-.9 2-2V5c0-1.1-.9-2-2-2zM9 17H7v-7h2v7zm4 0h-2V7h2v10zm4 0h-2v-4h2v4z\"/>\n",
              "    </g>\n",
              "</svg>\n",
              "      </button>\n",
              "\n",
              "<style>\n",
              "  .colab-df-quickchart {\n",
              "      --bg-color: #E8F0FE;\n",
              "      --fill-color: #1967D2;\n",
              "      --hover-bg-color: #E2EBFA;\n",
              "      --hover-fill-color: #174EA6;\n",
              "      --disabled-fill-color: #AAA;\n",
              "      --disabled-bg-color: #DDD;\n",
              "  }\n",
              "\n",
              "  [theme=dark] .colab-df-quickchart {\n",
              "      --bg-color: #3B4455;\n",
              "      --fill-color: #D2E3FC;\n",
              "      --hover-bg-color: #434B5C;\n",
              "      --hover-fill-color: #FFFFFF;\n",
              "      --disabled-bg-color: #3B4455;\n",
              "      --disabled-fill-color: #666;\n",
              "  }\n",
              "\n",
              "  .colab-df-quickchart {\n",
              "    background-color: var(--bg-color);\n",
              "    border: none;\n",
              "    border-radius: 50%;\n",
              "    cursor: pointer;\n",
              "    display: none;\n",
              "    fill: var(--fill-color);\n",
              "    height: 32px;\n",
              "    padding: 0;\n",
              "    width: 32px;\n",
              "  }\n",
              "\n",
              "  .colab-df-quickchart:hover {\n",
              "    background-color: var(--hover-bg-color);\n",
              "    box-shadow: 0 1px 2px rgba(60, 64, 67, 0.3), 0 1px 3px 1px rgba(60, 64, 67, 0.15);\n",
              "    fill: var(--button-hover-fill-color);\n",
              "  }\n",
              "\n",
              "  .colab-df-quickchart-complete:disabled,\n",
              "  .colab-df-quickchart-complete:disabled:hover {\n",
              "    background-color: var(--disabled-bg-color);\n",
              "    fill: var(--disabled-fill-color);\n",
              "    box-shadow: none;\n",
              "  }\n",
              "\n",
              "  .colab-df-spinner {\n",
              "    border: 2px solid var(--fill-color);\n",
              "    border-color: transparent;\n",
              "    border-bottom-color: var(--fill-color);\n",
              "    animation:\n",
              "      spin 1s steps(1) infinite;\n",
              "  }\n",
              "\n",
              "  @keyframes spin {\n",
              "    0% {\n",
              "      border-color: transparent;\n",
              "      border-bottom-color: var(--fill-color);\n",
              "      border-left-color: var(--fill-color);\n",
              "    }\n",
              "    20% {\n",
              "      border-color: transparent;\n",
              "      border-left-color: var(--fill-color);\n",
              "      border-top-color: var(--fill-color);\n",
              "    }\n",
              "    30% {\n",
              "      border-color: transparent;\n",
              "      border-left-color: var(--fill-color);\n",
              "      border-top-color: var(--fill-color);\n",
              "      border-right-color: var(--fill-color);\n",
              "    }\n",
              "    40% {\n",
              "      border-color: transparent;\n",
              "      border-right-color: var(--fill-color);\n",
              "      border-top-color: var(--fill-color);\n",
              "    }\n",
              "    60% {\n",
              "      border-color: transparent;\n",
              "      border-right-color: var(--fill-color);\n",
              "    }\n",
              "    80% {\n",
              "      border-color: transparent;\n",
              "      border-right-color: var(--fill-color);\n",
              "      border-bottom-color: var(--fill-color);\n",
              "    }\n",
              "    90% {\n",
              "      border-color: transparent;\n",
              "      border-bottom-color: var(--fill-color);\n",
              "    }\n",
              "  }\n",
              "</style>\n",
              "\n",
              "      <script>\n",
              "        async function quickchart(key) {\n",
              "          const quickchartButtonEl =\n",
              "            document.querySelector('#' + key + ' button');\n",
              "          quickchartButtonEl.disabled = true;  // To prevent multiple clicks.\n",
              "          quickchartButtonEl.classList.add('colab-df-spinner');\n",
              "          try {\n",
              "            const charts = await google.colab.kernel.invokeFunction(\n",
              "                'suggestCharts', [key], {});\n",
              "          } catch (error) {\n",
              "            console.error('Error during call to suggestCharts:', error);\n",
              "          }\n",
              "          quickchartButtonEl.classList.remove('colab-df-spinner');\n",
              "          quickchartButtonEl.classList.add('colab-df-quickchart-complete');\n",
              "        }\n",
              "        (() => {\n",
              "          let quickchartButtonEl =\n",
              "            document.querySelector('#df-2094b683-9f71-49d7-a08f-a5bb8e173748 button');\n",
              "          quickchartButtonEl.style.display =\n",
              "            google.colab.kernel.accessAllowed ? 'block' : 'none';\n",
              "        })();\n",
              "      </script>\n",
              "    </div>\n",
              "\n",
              "    </div>\n",
              "  </div>\n"
            ],
            "text/plain": [
              "             timestamp  cpu_usage  memory_available  disk_read  disk_write  \\\n",
              "0  2025-06-18 08:48:00   0.724931          0.746927   0.802243    0.010949   \n",
              "1  2025-06-18 08:48:30   0.247370          0.731033   1.000000    0.011040   \n",
              "2  2025-06-18 08:49:00   0.285406          0.729110   0.367237    0.002847   \n",
              "3  2025-06-18 08:49:30   0.438017          0.738016   0.021358    0.001111   \n",
              "4  2025-06-18 08:50:00   0.214782          0.745808   0.000000    0.001976   \n",
              "\n",
              "   network_receive  network_transmit  \n",
              "0         0.018548          0.063189  \n",
              "1         0.014776          0.050499  \n",
              "2         0.000205          0.000320  \n",
              "3         0.000761          0.003752  \n",
              "4         0.000601          0.000559  "
            ]
          },
          "execution_count": 8,
          "metadata": {},
          "output_type": "execute_result"
        }
      ],
      "source": [
        "train_data.head()"
      ]
    },
    {
      "cell_type": "code",
      "execution_count": 9,
      "metadata": {
        "id": "e4dDmWoMtT1W"
      },
      "outputs": [],
      "source": [
        "def create_sequences(data, seq_len):\n",
        "  sequences = []\n",
        "  for i in range(len(data)-seq_len+1):\n",
        "    seq = data[i:i+seq_len]\n",
        "    sequences.append(seq)\n",
        "  sequences = torch.tensor(sequences, dtype = torch.float32)\n",
        "\n",
        "  return sequences, sequences.clone()\n"
      ]
    },
    {
      "cell_type": "code",
      "execution_count": 10,
      "metadata": {
        "id": "wBrkeWXTnqEn"
      },
      "outputs": [],
      "source": [
        "class CustomDataset(Dataset):\n",
        "  def __init__(self,data, seq_len):\n",
        "    self.data , self.targets = create_sequences(data, seq_len)\n",
        "\n",
        "  def __len__(self):\n",
        "    return len(self.data)\n",
        "\n",
        "  def __getitem__(self, idx):\n",
        "    return self.data[idx], self.targets[idx]"
      ]
    },
    {
      "cell_type": "code",
      "execution_count": 11,
      "metadata": {
        "colab": {
          "base_uri": "https://localhost:8080/"
        },
        "id": "M_QEcy0rABND",
        "outputId": "dcdd8090-941c-4730-bc3a-e1e25b6b0c57"
      },
      "outputs": [
        {
          "name": "stderr",
          "output_type": "stream",
          "text": [
            "/tmp/ipython-input-9-2462898161.py:6: UserWarning: Creating a tensor from a list of numpy.ndarrays is extremely slow. Please consider converting the list to a single numpy.ndarray with numpy.array() before converting to a tensor. (Triggered internally at /pytorch/torch/csrc/utils/tensor_new.cpp:254.)\n",
            "  sequences = torch.tensor(sequences, dtype = torch.float32)\n"
          ]
        }
      ],
      "source": [
        "train_dataset = CustomDataset(train_data.drop(['timestamp'], axis=1).values,20)\n",
        "val_dataset = CustomDataset(val_data.drop(['timestamp'], axis=1).values, 20)"
      ]
    },
    {
      "cell_type": "code",
      "execution_count": 12,
      "metadata": {
        "colab": {
          "base_uri": "https://localhost:8080/"
        },
        "id": "I7exYZdPABGD",
        "outputId": "24eff8c9-4f45-4147-c3be-5c68c92a61b4"
      },
      "outputs": [
        {
          "name": "stdout",
          "output_type": "stream",
          "text": [
            "251\n",
            "52\n"
          ]
        }
      ],
      "source": [
        "print(len(train_dataset))\n",
        "print(len(val_dataset))"
      ]
    },
    {
      "cell_type": "code",
      "execution_count": 13,
      "metadata": {
        "id": "03SheHYawReK"
      },
      "outputs": [],
      "source": [
        "class LSTMAutoEncoder(nn.Module):\n",
        "  def __init__(self, input_dim, hidden_dim, num_layers, biDirect_bool, dp_ratio_1, dp_ratio_2,inside_dp_ratio, latent_dim):\n",
        "    super().__init__()\n",
        "    self.encoder = nn.LSTM(input_size=input_dim, hidden_size=hidden_dim, num_layers=num_layers,\n",
        "                           dropout=inside_dp_ratio,batch_first=True, bidirectional=biDirect_bool)\n",
        "\n",
        "    self.dropout = nn.Dropout(dp_ratio_1)\n",
        "    self.fc = nn.Linear(hidden_dim*2 if biDirect_bool else hidden_dim, latent_dim)\n",
        "\n",
        "    self.decoder = nn.LSTM(input_size=latent_dim, hidden_size=hidden_dim, num_layers=num_layers,\n",
        "                           dropout=inside_dp_ratio, batch_first=True)\n",
        "\n",
        "    self.dropout2 = nn.Dropout(dp_ratio_2)\n",
        "    self.fc2 = nn.Linear(hidden_dim, input_dim)\n",
        "\n",
        "  def forward(self, x):\n",
        "    _, (h_n, _) = self.encoder(x)\n",
        "\n",
        "    if self.encoder.bidirectional:\n",
        "      h_n_combined = torch.cat((h_n[-2], h_n[-1]), dim=1)\n",
        "    else:\n",
        "      h_n_combined = h_n[-1]\n",
        "\n",
        "    h_n_combined = self.dropout(h_n_combined)\n",
        "    fc1_out = self.fc(h_n_combined)\n",
        "    latent = fc1_out.unsqueeze(1).repeat(1, x.size(1), 1)\n",
        "\n",
        "    decoded, _ = self.decoder(latent)\n",
        "    decoded = self.dropout2(decoded)\n",
        "    final_decoded = self.fc2(decoded)\n",
        "\n",
        "    return final_decoded\n"
      ]
    },
    {
      "cell_type": "code",
      "execution_count": 14,
      "metadata": {
        "id": "HVLncsTBw9iQ"
      },
      "outputs": [],
      "source": [
        "def train(model, trainloader, batch_size,optimizer, criterion):\n",
        "  model.train()\n",
        "  total_loss = 0.0\n",
        "  for data , target in trainloader:\n",
        "    data, target = data.to(device), target.to(device)\n",
        "    optimizer.zero_grad()\n",
        "    output = model(data)\n",
        "    loss = criterion(output, target)\n",
        "    loss.backward()\n",
        "    optimizer.step()\n",
        "\n",
        "    total_loss += loss.item()\n",
        "\n",
        "  return total_loss/ len(trainloader)\n"
      ]
    },
    {
      "cell_type": "code",
      "execution_count": 15,
      "metadata": {
        "id": "lvbPCnKSye5d"
      },
      "outputs": [],
      "source": [
        "def val(model, valloader, batch_size,optimizer, criterion):\n",
        "  model.eval()\n",
        "  total_loss = 0.0\n",
        "  with torch.no_grad():\n",
        "    for data , target in valloader:\n",
        "      data, target = data.to(device), target.to(device)\n",
        "      output = model(data)\n",
        "      loss = criterion(output, target)\n",
        "\n",
        "      total_loss += loss.item()\n",
        "\n",
        "  return total_loss/ len(valloader)"
      ]
    },
    {
      "cell_type": "code",
      "execution_count": null,
      "metadata": {
        "id": "o-FA2m8JLz7K"
      },
      "outputs": [],
      "source": [
        "def objective(trial):\n",
        "  epochs = trial.suggest_int('epochs', 10, 100, step=10)\n",
        "\n",
        "  lr = trial.suggest_float('lr', 1e-4, 1e-1, log=True)\n",
        "  weight_decay = trial.suggest_float('weight_decay', 1e-4, 1e-1, log=True)\n",
        "\n",
        "  hidden_dim = trial.suggest_int('hidden_dim', 32, 256, step=32)\n",
        "  num_layers = trial.suggest_int('num_layers', 1, 3)\n",
        "  biDirect_bool = trial.suggest_categorical('biDirect_bool',[True, False])\n",
        "  dp_ratio_1 = trial.suggest_float('dp_ratio_1', 0.0, 0.5, step=0.1)\n",
        "  dp_ratio_2 = trial.suggest_float('dp_ratio_2', 0.0, 0.5, step=0.1)\n",
        "  inside_dp_ratio = trial.suggest_float('inside_dp_ratio', 0.0, 0.5, step=0.1)\n",
        "  latent_dim = trial.suggest_int('latent_dim', 16, 32, step=8)\n",
        "\n",
        "  batch_size = trial.suggest_categorical('batch_size', [8, 16])\n",
        "  INPUT_DIM = 6\n",
        "  input_dim = INPUT_DIM\n",
        "\n",
        "  with mlflow.start_run(nested=True):\n",
        "    mlflow.log_params({'epochs':epochs,\n",
        "                       'lr': lr,\n",
        "                       'weight_decay': weight_decay,\n",
        "                       'hidden_dim': hidden_dim,\n",
        "                       'num_layers': num_layers,\n",
        "                       'biDirect_bool': biDirect_bool,\n",
        "                       'dp_ratio_1': dp_ratio_1,\n",
        "                       'dp_ratio_2': dp_ratio_2,\n",
        "                       'inside_dp_ratio': inside_dp_ratio,\n",
        "                       'latent_dim': latent_dim,\n",
        "                       'batch_size': batch_size})\n",
        "\n",
        "    train_loader = DataLoader(train_dataset, batch_size=batch_size, shuffle=False,pin_memory=True)\n",
        "    val_loader = DataLoader(val_dataset, batch_size=batch_size, shuffle=False, pin_memory=True)\n",
        "    model = LSTMAutoEncoder(input_dim, hidden_dim, num_layers, biDirect_bool, dp_ratio_1, dp_ratio_2,inside_dp_ratio, latent_dim).to(device)\n",
        "\n",
        "    optimizer = optim.Adam(model.parameters(), lr=lr, weight_decay=weight_decay)\n",
        "    criterion = nn.MSELoss()\n",
        "\n",
        "    for i in range(epochs):\n",
        "      train_loss = train(model, train_loader, batch_size, optimizer, criterion)\n",
        "    trial.set_user_attr('train_loss_per_epoch', train_loss)\n",
        "\n",
        "    mlflow.log_metric(\"Train_loss\", train_loss)\n",
        "\n",
        "    val_loss = val(model, val_loader, batch_size, optimizer, criterion)\n",
        "    trial.set_user_attr('val_loss_per_epoch', val_loss)\n",
        "    mlflow.log_metric('Val_loss', val_loss)\n",
        "\n",
        "\n",
        "    return val_loss\n",
        "\n"
      ]
    },
    {
      "cell_type": "code",
      "execution_count": null,
      "metadata": {
        "colab": {
          "base_uri": "https://localhost:8080/"
        },
        "id": "5C7vIAwHLzqL",
        "outputId": "61771a02-e981-4df9-c903-ad40b7c04d61"
      },
      "outputs": [
        {
          "name": "stderr",
          "output_type": "stream",
          "text": [
            "[I 2025-06-23 09:50:43,939] A new study created in memory with name: no-name-3e59c048-cc06-463b-b819-3635ff44c846\n"
          ]
        }
      ],
      "source": [
        "study = optuna.create_study(direction='minimize')"
      ]
    },
    {
      "cell_type": "code",
      "execution_count": null,
      "metadata": {
        "colab": {
          "base_uri": "https://localhost:8080/"
        },
        "id": "eZD87gPc2rXw",
        "outputId": "dd600681-8534-496b-eda6-7afcbe572a9e"
      },
      "outputs": [
        {
          "name": "stderr",
          "output_type": "stream",
          "text": [
            "/usr/local/lib/python3.11/dist-packages/torch/nn/modules/rnn.py:123: UserWarning: dropout option adds dropout after all but last recurrent layer, so non-zero dropout expects num_layers greater than 1, but got dropout=0.30000000000000004 and num_layers=1\n",
            "  warnings.warn(\n",
            "[I 2025-06-23 09:50:47,472] Trial 0 finished with value: 0.01926674065180123 and parameters: {'epochs': 20, 'lr': 0.008091139267476488, 'weight_decay': 0.001150780155132052, 'hidden_dim': 192, 'num_layers': 1, 'biDirect_bool': True, 'dp_ratio_1': 0.5, 'dp_ratio_2': 0.5, 'inside_dp_ratio': 0.30000000000000004, 'latent_dim': 16, 'batch_size': 16}. Best is trial 0 with value: 0.01926674065180123.\n"
          ]
        },
        {
          "name": "stdout",
          "output_type": "stream",
          "text": [
            "🏃 View run gregarious-koi-854 at: https://dagshub.com/Bilal-ahmad8/Advanced-Monitoring-System.mlflow/#/experiments/0/runs/38fd95b11bb447b7b41d719abb6a0e49\n",
            "🧪 View experiment at: https://dagshub.com/Bilal-ahmad8/Advanced-Monitoring-System.mlflow/#/experiments/0\n"
          ]
        },
        {
          "name": "stderr",
          "output_type": "stream",
          "text": [
            "[I 2025-06-23 09:51:19,573] Trial 1 finished with value: 0.022453721213553633 and parameters: {'epochs': 80, 'lr': 0.003523892048455717, 'weight_decay': 0.00011877052500408, 'hidden_dim': 224, 'num_layers': 3, 'biDirect_bool': True, 'dp_ratio_1': 0.5, 'dp_ratio_2': 0.30000000000000004, 'inside_dp_ratio': 0.30000000000000004, 'latent_dim': 32, 'batch_size': 8}. Best is trial 0 with value: 0.01926674065180123.\n"
          ]
        },
        {
          "name": "stdout",
          "output_type": "stream",
          "text": [
            "🏃 View run gaudy-perch-227 at: https://dagshub.com/Bilal-ahmad8/Advanced-Monitoring-System.mlflow/#/experiments/0/runs/65abe81f5c1143d8aadcc48c5ee2ca2f\n",
            "🧪 View experiment at: https://dagshub.com/Bilal-ahmad8/Advanced-Monitoring-System.mlflow/#/experiments/0\n",
            "🏃 View run bustling-cow-169 at: https://dagshub.com/Bilal-ahmad8/Advanced-Monitoring-System.mlflow/#/experiments/0/runs/2f3749b79b6440a78f344cd3f1181eed\n",
            "🧪 View experiment at: https://dagshub.com/Bilal-ahmad8/Advanced-Monitoring-System.mlflow/#/experiments/0\n"
          ]
        },
        {
          "name": "stderr",
          "output_type": "stream",
          "text": [
            "[I 2025-06-23 09:51:25,615] Trial 2 finished with value: 0.017145607387647033 and parameters: {'epochs': 40, 'lr': 0.00022991742492107936, 'weight_decay': 0.024057517461496463, 'hidden_dim': 192, 'num_layers': 2, 'biDirect_bool': False, 'dp_ratio_1': 0.2, 'dp_ratio_2': 0.0, 'inside_dp_ratio': 0.5, 'latent_dim': 24, 'batch_size': 16}. Best is trial 2 with value: 0.017145607387647033.\n",
            "[I 2025-06-23 09:51:46,213] Trial 3 finished with value: 0.026242448017001152 and parameters: {'epochs': 100, 'lr': 0.014764818957477053, 'weight_decay': 0.011897816481599738, 'hidden_dim': 32, 'num_layers': 2, 'biDirect_bool': True, 'dp_ratio_1': 0.5, 'dp_ratio_2': 0.1, 'inside_dp_ratio': 0.1, 'latent_dim': 32, 'batch_size': 8}. Best is trial 2 with value: 0.017145607387647033.\n"
          ]
        },
        {
          "name": "stdout",
          "output_type": "stream",
          "text": [
            "🏃 View run delicate-lynx-411 at: https://dagshub.com/Bilal-ahmad8/Advanced-Monitoring-System.mlflow/#/experiments/0/runs/61075b3c37dd4e5ca5f3ea780b0b7079\n",
            "🧪 View experiment at: https://dagshub.com/Bilal-ahmad8/Advanced-Monitoring-System.mlflow/#/experiments/0\n",
            "🏃 View run enthused-shrike-565 at: https://dagshub.com/Bilal-ahmad8/Advanced-Monitoring-System.mlflow/#/experiments/0/runs/88c4c902dfcd44d2a5dc90ed57b940fc\n",
            "🧪 View experiment at: https://dagshub.com/Bilal-ahmad8/Advanced-Monitoring-System.mlflow/#/experiments/0\n"
          ]
        },
        {
          "name": "stderr",
          "output_type": "stream",
          "text": [
            "[I 2025-06-23 09:51:52,263] Trial 4 finished with value: 0.02690264768898487 and parameters: {'epochs': 20, 'lr': 0.02077002447044001, 'weight_decay': 0.009788265767318768, 'hidden_dim': 192, 'num_layers': 1, 'biDirect_bool': False, 'dp_ratio_1': 0.5, 'dp_ratio_2': 0.0, 'inside_dp_ratio': 0.30000000000000004, 'latent_dim': 16, 'batch_size': 16}. Best is trial 2 with value: 0.017145607387647033.\n",
            "[I 2025-06-23 09:52:02,904] Trial 5 finished with value: 0.017601419240236282 and parameters: {'epochs': 100, 'lr': 0.00011727886108861344, 'weight_decay': 0.038462932458751646, 'hidden_dim': 64, 'num_layers': 2, 'biDirect_bool': False, 'dp_ratio_1': 0.0, 'dp_ratio_2': 0.2, 'inside_dp_ratio': 0.30000000000000004, 'latent_dim': 16, 'batch_size': 16}. Best is trial 2 with value: 0.017145607387647033.\n"
          ]
        },
        {
          "name": "stdout",
          "output_type": "stream",
          "text": [
            "🏃 View run incongruous-dove-460 at: https://dagshub.com/Bilal-ahmad8/Advanced-Monitoring-System.mlflow/#/experiments/0/runs/c32b5575c558412999fe8105eb97954c\n",
            "🧪 View experiment at: https://dagshub.com/Bilal-ahmad8/Advanced-Monitoring-System.mlflow/#/experiments/0\n"
          ]
        },
        {
          "name": "stderr",
          "output_type": "stream",
          "text": [
            "[I 2025-06-23 09:52:14,914] Trial 6 finished with value: 0.017655168659985065 and parameters: {'epochs': 40, 'lr': 0.00013231889450060166, 'weight_decay': 0.03484708303284692, 'hidden_dim': 160, 'num_layers': 2, 'biDirect_bool': True, 'dp_ratio_1': 0.4, 'dp_ratio_2': 0.4, 'inside_dp_ratio': 0.5, 'latent_dim': 24, 'batch_size': 8}. Best is trial 2 with value: 0.017145607387647033.\n"
          ]
        },
        {
          "name": "stdout",
          "output_type": "stream",
          "text": [
            "🏃 View run intrigued-hen-527 at: https://dagshub.com/Bilal-ahmad8/Advanced-Monitoring-System.mlflow/#/experiments/0/runs/91932e40a913483fa6cdd6660985c373\n",
            "🧪 View experiment at: https://dagshub.com/Bilal-ahmad8/Advanced-Monitoring-System.mlflow/#/experiments/0\n",
            "🏃 View run chill-steed-747 at: https://dagshub.com/Bilal-ahmad8/Advanced-Monitoring-System.mlflow/#/experiments/0/runs/f1a22d0cdfca4df3af0e2d5c3885d928\n",
            "🧪 View experiment at: https://dagshub.com/Bilal-ahmad8/Advanced-Monitoring-System.mlflow/#/experiments/0\n"
          ]
        },
        {
          "name": "stderr",
          "output_type": "stream",
          "text": [
            "[I 2025-06-23 09:52:22,284] Trial 7 finished with value: 0.016988228308036923 and parameters: {'epochs': 40, 'lr': 0.0008745734263328684, 'weight_decay': 0.0686212450080013, 'hidden_dim': 64, 'num_layers': 1, 'biDirect_bool': True, 'dp_ratio_1': 0.1, 'dp_ratio_2': 0.5, 'inside_dp_ratio': 0.0, 'latent_dim': 24, 'batch_size': 16}. Best is trial 7 with value: 0.016988228308036923.\n",
            "/usr/local/lib/python3.11/dist-packages/torch/nn/modules/rnn.py:123: UserWarning: dropout option adds dropout after all but last recurrent layer, so non-zero dropout expects num_layers greater than 1, but got dropout=0.2 and num_layers=1\n",
            "  warnings.warn(\n"
          ]
        },
        {
          "name": "stdout",
          "output_type": "stream",
          "text": [
            "🏃 View run skillful-sloth-829 at: https://dagshub.com/Bilal-ahmad8/Advanced-Monitoring-System.mlflow/#/experiments/0/runs/8d57d944a68848aea9345fdea1b13e02\n",
            "🧪 View experiment at: https://dagshub.com/Bilal-ahmad8/Advanced-Monitoring-System.mlflow/#/experiments/0\n"
          ]
        },
        {
          "name": "stderr",
          "output_type": "stream",
          "text": [
            "[I 2025-06-23 09:52:32,260] Trial 8 finished with value: 0.01895244712276118 and parameters: {'epochs': 10, 'lr': 0.0037906089821546974, 'weight_decay': 0.0019530600228567481, 'hidden_dim': 96, 'num_layers': 1, 'biDirect_bool': True, 'dp_ratio_1': 0.1, 'dp_ratio_2': 0.30000000000000004, 'inside_dp_ratio': 0.2, 'latent_dim': 24, 'batch_size': 8}. Best is trial 7 with value: 0.016988228308036923.\n",
            "[I 2025-06-23 09:52:47,285] Trial 9 finished with value: 0.016906050965189934 and parameters: {'epochs': 100, 'lr': 0.050294849401995995, 'weight_decay': 0.07285276957333035, 'hidden_dim': 160, 'num_layers': 2, 'biDirect_bool': True, 'dp_ratio_1': 0.4, 'dp_ratio_2': 0.0, 'inside_dp_ratio': 0.30000000000000004, 'latent_dim': 16, 'batch_size': 16}. Best is trial 9 with value: 0.016906050965189934.\n"
          ]
        },
        {
          "name": "stdout",
          "output_type": "stream",
          "text": [
            "🏃 View run amusing-skunk-984 at: https://dagshub.com/Bilal-ahmad8/Advanced-Monitoring-System.mlflow/#/experiments/0/runs/7ce70862c64549df9098a2230ebd67f6\n",
            "🧪 View experiment at: https://dagshub.com/Bilal-ahmad8/Advanced-Monitoring-System.mlflow/#/experiments/0\n"
          ]
        },
        {
          "name": "stderr",
          "output_type": "stream",
          "text": [
            "[I 2025-06-23 09:52:59,395] Trial 10 finished with value: 0.02583417436107993 and parameters: {'epochs': 70, 'lr': 0.09440309651420914, 'weight_decay': 0.0004774058115292583, 'hidden_dim': 256, 'num_layers': 3, 'biDirect_bool': False, 'dp_ratio_1': 0.30000000000000004, 'dp_ratio_2': 0.1, 'inside_dp_ratio': 0.4, 'latent_dim': 16, 'batch_size': 16}. Best is trial 9 with value: 0.016906050965189934.\n"
          ]
        },
        {
          "name": "stdout",
          "output_type": "stream",
          "text": [
            "🏃 View run sassy-dove-602 at: https://dagshub.com/Bilal-ahmad8/Advanced-Monitoring-System.mlflow/#/experiments/0/runs/26728862acfd471da9acef79cddd84ea\n",
            "🧪 View experiment at: https://dagshub.com/Bilal-ahmad8/Advanced-Monitoring-System.mlflow/#/experiments/0\n",
            "🏃 View run handsome-steed-864 at: https://dagshub.com/Bilal-ahmad8/Advanced-Monitoring-System.mlflow/#/experiments/0/runs/926e7fcf17c74ed8be7ab67423f0449f\n",
            "🧪 View experiment at: https://dagshub.com/Bilal-ahmad8/Advanced-Monitoring-System.mlflow/#/experiments/0\n"
          ]
        },
        {
          "name": "stderr",
          "output_type": "stream",
          "text": [
            "[I 2025-06-23 09:53:05,439] Trial 11 finished with value: 0.017228224547579885 and parameters: {'epochs': 50, 'lr': 0.0006262046585697679, 'weight_decay': 0.08060430434507476, 'hidden_dim': 128, 'num_layers': 1, 'biDirect_bool': True, 'dp_ratio_1': 0.2, 'dp_ratio_2': 0.5, 'inside_dp_ratio': 0.0, 'latent_dim': 24, 'batch_size': 16}. Best is trial 9 with value: 0.016906050965189934.\n",
            "[I 2025-06-23 09:53:15,551] Trial 12 finished with value: 0.016871848609298468 and parameters: {'epochs': 70, 'lr': 0.000772215536179331, 'weight_decay': 0.09988585103723552, 'hidden_dim': 128, 'num_layers': 3, 'biDirect_bool': True, 'dp_ratio_1': 0.0, 'dp_ratio_2': 0.4, 'inside_dp_ratio': 0.0, 'latent_dim': 32, 'batch_size': 16}. Best is trial 12 with value: 0.016871848609298468.\n"
          ]
        },
        {
          "name": "stdout",
          "output_type": "stream",
          "text": [
            "🏃 View run sedate-rat-942 at: https://dagshub.com/Bilal-ahmad8/Advanced-Monitoring-System.mlflow/#/experiments/0/runs/00347316842b47c3b780fe0723221c63\n",
            "🧪 View experiment at: https://dagshub.com/Bilal-ahmad8/Advanced-Monitoring-System.mlflow/#/experiments/0\n"
          ]
        },
        {
          "name": "stderr",
          "output_type": "stream",
          "text": [
            "[I 2025-06-23 09:53:27,263] Trial 13 finished with value: 0.016793266171589494 and parameters: {'epochs': 80, 'lr': 0.09516845220156496, 'weight_decay': 0.00837177592508263, 'hidden_dim': 128, 'num_layers': 3, 'biDirect_bool': True, 'dp_ratio_1': 0.30000000000000004, 'dp_ratio_2': 0.4, 'inside_dp_ratio': 0.1, 'latent_dim': 32, 'batch_size': 16}. Best is trial 13 with value: 0.016793266171589494.\n"
          ]
        },
        {
          "name": "stdout",
          "output_type": "stream",
          "text": [
            "🏃 View run peaceful-roo-10 at: https://dagshub.com/Bilal-ahmad8/Advanced-Monitoring-System.mlflow/#/experiments/0/runs/4a28861dc7c7474ca7aade0b9c7fcc5f\n",
            "🧪 View experiment at: https://dagshub.com/Bilal-ahmad8/Advanced-Monitoring-System.mlflow/#/experiments/0\n"
          ]
        },
        {
          "name": "stderr",
          "output_type": "stream",
          "text": [
            "[I 2025-06-23 09:53:36,571] Trial 14 finished with value: 0.018471179762855172 and parameters: {'epochs': 70, 'lr': 0.0009434912618333649, 'weight_decay': 0.006360573407555603, 'hidden_dim': 128, 'num_layers': 3, 'biDirect_bool': True, 'dp_ratio_1': 0.0, 'dp_ratio_2': 0.4, 'inside_dp_ratio': 0.1, 'latent_dim': 32, 'batch_size': 16}. Best is trial 13 with value: 0.016793266171589494.\n"
          ]
        },
        {
          "name": "stdout",
          "output_type": "stream",
          "text": [
            "🏃 View run delicate-bee-721 at: https://dagshub.com/Bilal-ahmad8/Advanced-Monitoring-System.mlflow/#/experiments/0/runs/7e875c94c4b244cc8a7ebecadfcb8dd7\n",
            "🧪 View experiment at: https://dagshub.com/Bilal-ahmad8/Advanced-Monitoring-System.mlflow/#/experiments/0\n"
          ]
        },
        {
          "name": "stderr",
          "output_type": "stream",
          "text": [
            "[I 2025-06-23 09:53:47,348] Trial 15 finished with value: 0.01901807403191924 and parameters: {'epochs': 80, 'lr': 0.0019230467309488423, 'weight_decay': 0.004063249124007807, 'hidden_dim': 96, 'num_layers': 3, 'biDirect_bool': True, 'dp_ratio_1': 0.30000000000000004, 'dp_ratio_2': 0.4, 'inside_dp_ratio': 0.1, 'latent_dim': 32, 'batch_size': 16}. Best is trial 13 with value: 0.016793266171589494.\n"
          ]
        },
        {
          "name": "stdout",
          "output_type": "stream",
          "text": [
            "🏃 View run fun-trout-136 at: https://dagshub.com/Bilal-ahmad8/Advanced-Monitoring-System.mlflow/#/experiments/0/runs/a16a78105bd742889c6008b4cd5cd008\n",
            "🧪 View experiment at: https://dagshub.com/Bilal-ahmad8/Advanced-Monitoring-System.mlflow/#/experiments/0\n"
          ]
        },
        {
          "name": "stderr",
          "output_type": "stream",
          "text": [
            "[I 2025-06-23 09:53:57,491] Trial 16 finished with value: 0.017962711630389094 and parameters: {'epochs': 80, 'lr': 0.0003279854055676548, 'weight_decay': 0.016469211444465393, 'hidden_dim': 96, 'num_layers': 3, 'biDirect_bool': True, 'dp_ratio_1': 0.1, 'dp_ratio_2': 0.30000000000000004, 'inside_dp_ratio': 0.0, 'latent_dim': 32, 'batch_size': 16}. Best is trial 13 with value: 0.016793266171589494.\n"
          ]
        },
        {
          "name": "stdout",
          "output_type": "stream",
          "text": [
            "🏃 View run peaceful-hound-193 at: https://dagshub.com/Bilal-ahmad8/Advanced-Monitoring-System.mlflow/#/experiments/0/runs/72a811f4db5d4ee79e0c7330600b553b\n",
            "🧪 View experiment at: https://dagshub.com/Bilal-ahmad8/Advanced-Monitoring-System.mlflow/#/experiments/0\n"
          ]
        },
        {
          "name": "stderr",
          "output_type": "stream",
          "text": [
            "[I 2025-06-23 09:54:08,464] Trial 17 finished with value: 0.018793300027027726 and parameters: {'epochs': 60, 'lr': 0.0016993834574052372, 'weight_decay': 0.0012870335969468068, 'hidden_dim': 160, 'num_layers': 3, 'biDirect_bool': True, 'dp_ratio_1': 0.30000000000000004, 'dp_ratio_2': 0.4, 'inside_dp_ratio': 0.2, 'latent_dim': 32, 'batch_size': 16}. Best is trial 13 with value: 0.016793266171589494.\n"
          ]
        },
        {
          "name": "stdout",
          "output_type": "stream",
          "text": [
            "🏃 View run ambitious-cub-550 at: https://dagshub.com/Bilal-ahmad8/Advanced-Monitoring-System.mlflow/#/experiments/0/runs/3f4b90386a73436bb84762d89c6905cb\n",
            "🧪 View experiment at: https://dagshub.com/Bilal-ahmad8/Advanced-Monitoring-System.mlflow/#/experiments/0\n"
          ]
        },
        {
          "name": "stderr",
          "output_type": "stream",
          "text": [
            "[I 2025-06-23 09:54:25,177] Trial 18 finished with value: 0.021998543292284012 and parameters: {'epochs': 90, 'lr': 0.008561330564347453, 'weight_decay': 0.0004520923305914743, 'hidden_dim': 128, 'num_layers': 3, 'biDirect_bool': False, 'dp_ratio_1': 0.2, 'dp_ratio_2': 0.4, 'inside_dp_ratio': 0.1, 'latent_dim': 32, 'batch_size': 8}. Best is trial 13 with value: 0.016793266171589494.\n"
          ]
        },
        {
          "name": "stdout",
          "output_type": "stream",
          "text": [
            "🏃 View run bustling-ant-573 at: https://dagshub.com/Bilal-ahmad8/Advanced-Monitoring-System.mlflow/#/experiments/0/runs/911b8d17fbce4ec493c4d5b4443cc696\n",
            "🧪 View experiment at: https://dagshub.com/Bilal-ahmad8/Advanced-Monitoring-System.mlflow/#/experiments/0\n"
          ]
        },
        {
          "name": "stderr",
          "output_type": "stream",
          "text": [
            "[I 2025-06-23 09:54:33,436] Trial 19 finished with value: 0.018927269615232944 and parameters: {'epochs': 60, 'lr': 0.041571275002324236, 'weight_decay': 0.0041354055054247125, 'hidden_dim': 64, 'num_layers': 3, 'biDirect_bool': True, 'dp_ratio_1': 0.4, 'dp_ratio_2': 0.2, 'inside_dp_ratio': 0.0, 'latent_dim': 32, 'batch_size': 16}. Best is trial 13 with value: 0.016793266171589494.\n"
          ]
        },
        {
          "name": "stdout",
          "output_type": "stream",
          "text": [
            "🏃 View run serious-horse-103 at: https://dagshub.com/Bilal-ahmad8/Advanced-Monitoring-System.mlflow/#/experiments/0/runs/26405fe1496c466f8a872212bf7f5a8d\n",
            "🧪 View experiment at: https://dagshub.com/Bilal-ahmad8/Advanced-Monitoring-System.mlflow/#/experiments/0\n"
          ]
        },
        {
          "name": "stderr",
          "output_type": "stream",
          "text": [
            "[I 2025-06-23 09:54:42,148] Trial 20 finished with value: 0.017108629690483212 and parameters: {'epochs': 70, 'lr': 0.00031826175765248515, 'weight_decay': 0.03550227329163052, 'hidden_dim': 32, 'num_layers': 3, 'biDirect_bool': True, 'dp_ratio_1': 0.0, 'dp_ratio_2': 0.5, 'inside_dp_ratio': 0.2, 'latent_dim': 32, 'batch_size': 16}. Best is trial 13 with value: 0.016793266171589494.\n"
          ]
        },
        {
          "name": "stdout",
          "output_type": "stream",
          "text": [
            "🏃 View run puzzled-lynx-777 at: https://dagshub.com/Bilal-ahmad8/Advanced-Monitoring-System.mlflow/#/experiments/0/runs/effbda10999d4d05839df6a0281ad4ce\n",
            "🧪 View experiment at: https://dagshub.com/Bilal-ahmad8/Advanced-Monitoring-System.mlflow/#/experiments/0\n"
          ]
        },
        {
          "name": "stderr",
          "output_type": "stream",
          "text": [
            "[I 2025-06-23 09:54:54,479] Trial 21 finished with value: 0.017035067779943347 and parameters: {'epochs': 90, 'lr': 0.09871008529406887, 'weight_decay': 0.08686667977143964, 'hidden_dim': 160, 'num_layers': 2, 'biDirect_bool': True, 'dp_ratio_1': 0.4, 'dp_ratio_2': 0.1, 'inside_dp_ratio': 0.4, 'latent_dim': 24, 'batch_size': 16}. Best is trial 13 with value: 0.016793266171589494.\n"
          ]
        },
        {
          "name": "stdout",
          "output_type": "stream",
          "text": [
            "🏃 View run treasured-conch-93 at: https://dagshub.com/Bilal-ahmad8/Advanced-Monitoring-System.mlflow/#/experiments/0/runs/25245ace2577481f80b328d96ecd6836\n",
            "🧪 View experiment at: https://dagshub.com/Bilal-ahmad8/Advanced-Monitoring-System.mlflow/#/experiments/0\n",
            "🏃 View run nervous-kit-680 at: https://dagshub.com/Bilal-ahmad8/Advanced-Monitoring-System.mlflow/#/experiments/0/runs/d59cdf8283ce49ed8150bc023e30fdbd\n",
            "🧪 View experiment at: https://dagshub.com/Bilal-ahmad8/Advanced-Monitoring-System.mlflow/#/experiments/0\n"
          ]
        },
        {
          "name": "stderr",
          "output_type": "stream",
          "text": [
            "[I 2025-06-23 09:55:03,728] Trial 22 finished with value: 0.018352212850004435 and parameters: {'epochs': 90, 'lr': 0.04273470127301849, 'weight_decay': 0.053902681074471485, 'hidden_dim': 128, 'num_layers': 2, 'biDirect_bool': True, 'dp_ratio_1': 0.4, 'dp_ratio_2': 0.2, 'inside_dp_ratio': 0.1, 'latent_dim': 24, 'batch_size': 16}. Best is trial 13 with value: 0.016793266171589494.\n",
            "[I 2025-06-23 09:55:17,059] Trial 23 finished with value: 0.023866177536547184 and parameters: {'epochs': 100, 'lr': 0.0424086609938114, 'weight_decay': 0.021618739787259825, 'hidden_dim': 160, 'num_layers': 2, 'biDirect_bool': True, 'dp_ratio_1': 0.30000000000000004, 'dp_ratio_2': 0.30000000000000004, 'inside_dp_ratio': 0.4, 'latent_dim': 16, 'batch_size': 16}. Best is trial 13 with value: 0.016793266171589494.\n"
          ]
        },
        {
          "name": "stdout",
          "output_type": "stream",
          "text": [
            "🏃 View run wistful-flea-304 at: https://dagshub.com/Bilal-ahmad8/Advanced-Monitoring-System.mlflow/#/experiments/0/runs/581a5e1df7584525930f6c4e4ae22a94\n",
            "🧪 View experiment at: https://dagshub.com/Bilal-ahmad8/Advanced-Monitoring-System.mlflow/#/experiments/0\n"
          ]
        },
        {
          "name": "stderr",
          "output_type": "stream",
          "text": [
            "[I 2025-06-23 09:55:31,682] Trial 24 finished with value: 0.016893237363547087 and parameters: {'epochs': 90, 'lr': 0.06572946131360488, 'weight_decay': 0.0927996020294815, 'hidden_dim': 224, 'num_layers': 2, 'biDirect_bool': True, 'dp_ratio_1': 0.4, 'dp_ratio_2': 0.0, 'inside_dp_ratio': 0.2, 'latent_dim': 24, 'batch_size': 16}. Best is trial 13 with value: 0.016793266171589494.\n"
          ]
        },
        {
          "name": "stdout",
          "output_type": "stream",
          "text": [
            "🏃 View run flawless-smelt-932 at: https://dagshub.com/Bilal-ahmad8/Advanced-Monitoring-System.mlflow/#/experiments/0/runs/1f7d73db153542d195057e9be2d563f3\n",
            "🧪 View experiment at: https://dagshub.com/Bilal-ahmad8/Advanced-Monitoring-System.mlflow/#/experiments/0\n"
          ]
        },
        {
          "name": "stderr",
          "output_type": "stream",
          "text": [
            "[I 2025-06-23 09:55:49,256] Trial 25 finished with value: 0.23150350153446198 and parameters: {'epochs': 80, 'lr': 0.021821125397882744, 'weight_decay': 0.008027592400740628, 'hidden_dim': 256, 'num_layers': 3, 'biDirect_bool': True, 'dp_ratio_1': 0.2, 'dp_ratio_2': 0.4, 'inside_dp_ratio': 0.2, 'latent_dim': 32, 'batch_size': 16}. Best is trial 13 with value: 0.016793266171589494.\n"
          ]
        },
        {
          "name": "stdout",
          "output_type": "stream",
          "text": [
            "🏃 View run loud-sponge-370 at: https://dagshub.com/Bilal-ahmad8/Advanced-Monitoring-System.mlflow/#/experiments/0/runs/1a5520dee1c2436f85a9881e5dc89cbb\n",
            "🧪 View experiment at: https://dagshub.com/Bilal-ahmad8/Advanced-Monitoring-System.mlflow/#/experiments/0\n"
          ]
        },
        {
          "name": "stderr",
          "output_type": "stream",
          "text": [
            "[I 2025-06-23 09:56:10,947] Trial 26 finished with value: 0.023307854309678078 and parameters: {'epochs': 70, 'lr': 0.07179063477540412, 'weight_decay': 0.09908418479349036, 'hidden_dim': 224, 'num_layers': 3, 'biDirect_bool': False, 'dp_ratio_1': 0.30000000000000004, 'dp_ratio_2': 0.30000000000000004, 'inside_dp_ratio': 0.1, 'latent_dim': 24, 'batch_size': 8}. Best is trial 13 with value: 0.016793266171589494.\n"
          ]
        },
        {
          "name": "stdout",
          "output_type": "stream",
          "text": [
            "🏃 View run kindly-cub-23 at: https://dagshub.com/Bilal-ahmad8/Advanced-Monitoring-System.mlflow/#/experiments/0/runs/c09a9806f8784a2d86a3f230b83be723\n",
            "🧪 View experiment at: https://dagshub.com/Bilal-ahmad8/Advanced-Monitoring-System.mlflow/#/experiments/0\n"
          ]
        },
        {
          "name": "stderr",
          "output_type": "stream",
          "text": [
            "[I 2025-06-23 09:56:25,461] Trial 27 finished with value: 0.017704744124785066 and parameters: {'epochs': 90, 'lr': 0.006823993745826786, 'weight_decay': 0.0480044422739789, 'hidden_dim': 224, 'num_layers': 2, 'biDirect_bool': True, 'dp_ratio_1': 0.1, 'dp_ratio_2': 0.2, 'inside_dp_ratio': 0.0, 'latent_dim': 32, 'batch_size': 16}. Best is trial 13 with value: 0.016793266171589494.\n"
          ]
        },
        {
          "name": "stdout",
          "output_type": "stream",
          "text": [
            "🏃 View run bald-cow-91 at: https://dagshub.com/Bilal-ahmad8/Advanced-Monitoring-System.mlflow/#/experiments/0/runs/45234eb7aca14b74b7eb7cc9b581b505\n",
            "🧪 View experiment at: https://dagshub.com/Bilal-ahmad8/Advanced-Monitoring-System.mlflow/#/experiments/0\n"
          ]
        },
        {
          "name": "stderr",
          "output_type": "stream",
          "text": [
            "[I 2025-06-23 09:56:32,653] Trial 28 finished with value: 0.0208781526889652 and parameters: {'epochs': 50, 'lr': 0.023594876690761428, 'weight_decay': 0.017315182580037128, 'hidden_dim': 96, 'num_layers': 3, 'biDirect_bool': True, 'dp_ratio_1': 0.4, 'dp_ratio_2': 0.1, 'inside_dp_ratio': 0.2, 'latent_dim': 24, 'batch_size': 16}. Best is trial 13 with value: 0.016793266171589494.\n"
          ]
        },
        {
          "name": "stdout",
          "output_type": "stream",
          "text": [
            "🏃 View run omniscient-carp-552 at: https://dagshub.com/Bilal-ahmad8/Advanced-Monitoring-System.mlflow/#/experiments/0/runs/8dbd67da8a3442b7983cfec5aadab1ed\n",
            "🧪 View experiment at: https://dagshub.com/Bilal-ahmad8/Advanced-Monitoring-System.mlflow/#/experiments/0\n"
          ]
        },
        {
          "name": "stderr",
          "output_type": "stream",
          "text": [
            "[I 2025-06-23 09:56:42,986] Trial 29 finished with value: 0.019027918111532927 and parameters: {'epochs': 60, 'lr': 0.010270020900316226, 'weight_decay': 0.002535114422554122, 'hidden_dim': 192, 'num_layers': 2, 'biDirect_bool': True, 'dp_ratio_1': 0.30000000000000004, 'dp_ratio_2': 0.5, 'inside_dp_ratio': 0.1, 'latent_dim': 32, 'batch_size': 16}. Best is trial 13 with value: 0.016793266171589494.\n"
          ]
        },
        {
          "name": "stdout",
          "output_type": "stream",
          "text": [
            "🏃 View run legendary-gnu-936 at: https://dagshub.com/Bilal-ahmad8/Advanced-Monitoring-System.mlflow/#/experiments/0/runs/0c2534c680bd46e3a83ae679457419e9\n",
            "🧪 View experiment at: https://dagshub.com/Bilal-ahmad8/Advanced-Monitoring-System.mlflow/#/experiments/0\n",
            "🏃 View run magnificent-cub-148 at: https://dagshub.com/Bilal-ahmad8/Advanced-Monitoring-System.mlflow/#/experiments/0/runs/4dbc5e4a43074e4c9a53eb9fc0110de9\n",
            "🧪 View experiment at: https://dagshub.com/Bilal-ahmad8/Advanced-Monitoring-System.mlflow/#/experiments/0\n"
          ]
        },
        {
          "name": "stderr",
          "output_type": "stream",
          "text": [
            "[I 2025-06-23 09:56:51,234] Trial 30 finished with value: 0.01632137270644307 and parameters: {'epochs': 80, 'lr': 0.00214163930133706, 'weight_decay': 0.000682126436099983, 'hidden_dim': 192, 'num_layers': 1, 'biDirect_bool': True, 'dp_ratio_1': 0.5, 'dp_ratio_2': 0.4, 'inside_dp_ratio': 0.0, 'latent_dim': 24, 'batch_size': 16}. Best is trial 30 with value: 0.01632137270644307.\n"
          ]
        },
        {
          "name": "stdout",
          "output_type": "stream",
          "text": [
            "🏃 View run gaudy-tern-719 at: https://dagshub.com/Bilal-ahmad8/Advanced-Monitoring-System.mlflow/#/experiments/0/runs/4adb3f71ff7346d3ba26a8d23c630cbc\n",
            "🧪 View experiment at: https://dagshub.com/Bilal-ahmad8/Advanced-Monitoring-System.mlflow/#/experiments/0\n"
          ]
        },
        {
          "name": "stderr",
          "output_type": "stream",
          "text": [
            "[I 2025-06-23 09:57:01,235] Trial 31 finished with value: 0.01585223851725459 and parameters: {'epochs': 80, 'lr': 0.0014573495462471703, 'weight_decay': 0.0006314603244560522, 'hidden_dim': 192, 'num_layers': 1, 'biDirect_bool': True, 'dp_ratio_1': 0.5, 'dp_ratio_2': 0.4, 'inside_dp_ratio': 0.0, 'latent_dim': 24, 'batch_size': 16}. Best is trial 31 with value: 0.01585223851725459.\n",
            "[I 2025-06-23 09:57:11,234] Trial 32 finished with value: 0.016497029224410653 and parameters: {'epochs': 80, 'lr': 0.0019955439211057735, 'weight_decay': 0.0004479403480286639, 'hidden_dim': 192, 'num_layers': 1, 'biDirect_bool': True, 'dp_ratio_1': 0.5, 'dp_ratio_2': 0.4, 'inside_dp_ratio': 0.0, 'latent_dim': 24, 'batch_size': 16}. Best is trial 31 with value: 0.01585223851725459.\n"
          ]
        },
        {
          "name": "stdout",
          "output_type": "stream",
          "text": [
            "🏃 View run languid-skink-545 at: https://dagshub.com/Bilal-ahmad8/Advanced-Monitoring-System.mlflow/#/experiments/0/runs/88b9778274fd4a6eb15d2a10fc9358d6\n",
            "🧪 View experiment at: https://dagshub.com/Bilal-ahmad8/Advanced-Monitoring-System.mlflow/#/experiments/0\n"
          ]
        },
        {
          "name": "stderr",
          "output_type": "stream",
          "text": [
            "[I 2025-06-23 09:57:22,991] Trial 33 finished with value: 0.01575886318460107 and parameters: {'epochs': 80, 'lr': 0.0021536635357589586, 'weight_decay': 0.00037078070866353527, 'hidden_dim': 192, 'num_layers': 1, 'biDirect_bool': True, 'dp_ratio_1': 0.5, 'dp_ratio_2': 0.5, 'inside_dp_ratio': 0.0, 'latent_dim': 24, 'batch_size': 16}. Best is trial 33 with value: 0.01575886318460107.\n"
          ]
        },
        {
          "name": "stdout",
          "output_type": "stream",
          "text": [
            "🏃 View run bald-gnu-543 at: https://dagshub.com/Bilal-ahmad8/Advanced-Monitoring-System.mlflow/#/experiments/0/runs/dda88b27a5cf4f8ca5bda697717362a6\n",
            "🧪 View experiment at: https://dagshub.com/Bilal-ahmad8/Advanced-Monitoring-System.mlflow/#/experiments/0\n"
          ]
        },
        {
          "name": "stderr",
          "output_type": "stream",
          "text": [
            "[I 2025-06-23 09:57:37,363] Trial 34 finished with value: 0.016636877320706844 and parameters: {'epochs': 80, 'lr': 0.0019830203684222426, 'weight_decay': 0.0003129696897201231, 'hidden_dim': 192, 'num_layers': 1, 'biDirect_bool': True, 'dp_ratio_1': 0.5, 'dp_ratio_2': 0.5, 'inside_dp_ratio': 0.0, 'latent_dim': 24, 'batch_size': 8}. Best is trial 33 with value: 0.01575886318460107.\n"
          ]
        },
        {
          "name": "stdout",
          "output_type": "stream",
          "text": [
            "🏃 View run painted-fowl-256 at: https://dagshub.com/Bilal-ahmad8/Advanced-Monitoring-System.mlflow/#/experiments/0/runs/c7ef6ac1ba9544438eb3cf711b1bcbbd\n",
            "🧪 View experiment at: https://dagshub.com/Bilal-ahmad8/Advanced-Monitoring-System.mlflow/#/experiments/0\n"
          ]
        },
        {
          "name": "stderr",
          "output_type": "stream",
          "text": [
            "[I 2025-06-23 09:57:46,397] Trial 35 finished with value: 0.017015452263876796 and parameters: {'epochs': 80, 'lr': 0.004377671128237092, 'weight_decay': 0.00014828800941657378, 'hidden_dim': 224, 'num_layers': 1, 'biDirect_bool': True, 'dp_ratio_1': 0.5, 'dp_ratio_2': 0.5, 'inside_dp_ratio': 0.0, 'latent_dim': 24, 'batch_size': 16}. Best is trial 33 with value: 0.01575886318460107.\n"
          ]
        },
        {
          "name": "stdout",
          "output_type": "stream",
          "text": [
            "🏃 View run intrigued-frog-836 at: https://dagshub.com/Bilal-ahmad8/Advanced-Monitoring-System.mlflow/#/experiments/0/runs/9a0977668733458d8c17c674e4b9d1b1\n",
            "🧪 View experiment at: https://dagshub.com/Bilal-ahmad8/Advanced-Monitoring-System.mlflow/#/experiments/0\n",
            "🏃 View run mysterious-flea-836 at: https://dagshub.com/Bilal-ahmad8/Advanced-Monitoring-System.mlflow/#/experiments/0/runs/af14a86f60754339a0b770a606d816f6\n",
            "🧪 View experiment at: https://dagshub.com/Bilal-ahmad8/Advanced-Monitoring-System.mlflow/#/experiments/0\n"
          ]
        },
        {
          "name": "stderr",
          "output_type": "stream",
          "text": [
            "[I 2025-06-23 09:57:53,243] Trial 36 finished with value: 0.01691442192532122 and parameters: {'epochs': 30, 'lr': 0.002601252362045597, 'weight_decay': 0.0007531028050557109, 'hidden_dim': 192, 'num_layers': 1, 'biDirect_bool': False, 'dp_ratio_1': 0.5, 'dp_ratio_2': 0.30000000000000004, 'inside_dp_ratio': 0.0, 'latent_dim': 24, 'batch_size': 16}. Best is trial 33 with value: 0.01575886318460107.\n",
            "[I 2025-06-23 09:58:03,493] Trial 37 finished with value: 0.015546449925750494 and parameters: {'epochs': 90, 'lr': 0.00125872017081707, 'weight_decay': 0.00021584232454414633, 'hidden_dim': 192, 'num_layers': 1, 'biDirect_bool': True, 'dp_ratio_1': 0.5, 'dp_ratio_2': 0.5, 'inside_dp_ratio': 0.0, 'latent_dim': 24, 'batch_size': 16}. Best is trial 37 with value: 0.015546449925750494.\n"
          ]
        },
        {
          "name": "stdout",
          "output_type": "stream",
          "text": [
            "🏃 View run mercurial-rook-286 at: https://dagshub.com/Bilal-ahmad8/Advanced-Monitoring-System.mlflow/#/experiments/0/runs/d8fc5e197b7c463f8aab3f0c06869bc8\n",
            "🧪 View experiment at: https://dagshub.com/Bilal-ahmad8/Advanced-Monitoring-System.mlflow/#/experiments/0\n"
          ]
        },
        {
          "name": "stderr",
          "output_type": "stream",
          "text": [
            "[I 2025-06-23 09:58:21,265] Trial 38 finished with value: 0.01706882712564298 and parameters: {'epochs': 100, 'lr': 0.001396643332798134, 'weight_decay': 0.00016439742096636804, 'hidden_dim': 224, 'num_layers': 1, 'biDirect_bool': False, 'dp_ratio_1': 0.5, 'dp_ratio_2': 0.5, 'inside_dp_ratio': 0.0, 'latent_dim': 24, 'batch_size': 8}. Best is trial 37 with value: 0.015546449925750494.\n"
          ]
        },
        {
          "name": "stdout",
          "output_type": "stream",
          "text": [
            "🏃 View run likeable-zebra-395 at: https://dagshub.com/Bilal-ahmad8/Advanced-Monitoring-System.mlflow/#/experiments/0/runs/b91b91a77f674d389cebc186ced6b7dc\n",
            "🧪 View experiment at: https://dagshub.com/Bilal-ahmad8/Advanced-Monitoring-System.mlflow/#/experiments/0\n"
          ]
        },
        {
          "name": "stderr",
          "output_type": "stream",
          "text": [
            "/usr/local/lib/python3.11/dist-packages/torch/nn/modules/rnn.py:123: UserWarning: dropout option adds dropout after all but last recurrent layer, so non-zero dropout expects num_layers greater than 1, but got dropout=0.1 and num_layers=1\n",
            "  warnings.warn(\n",
            "[I 2025-06-23 09:58:31,160] Trial 39 finished with value: 0.016565262572839856 and parameters: {'epochs': 90, 'lr': 0.005632516997424619, 'weight_decay': 0.00023452336156146075, 'hidden_dim': 256, 'num_layers': 1, 'biDirect_bool': True, 'dp_ratio_1': 0.5, 'dp_ratio_2': 0.5, 'inside_dp_ratio': 0.1, 'latent_dim': 24, 'batch_size': 16}. Best is trial 37 with value: 0.015546449925750494.\n"
          ]
        },
        {
          "name": "stdout",
          "output_type": "stream",
          "text": [
            "🏃 View run dashing-snake-448 at: https://dagshub.com/Bilal-ahmad8/Advanced-Monitoring-System.mlflow/#/experiments/0/runs/f3137fe605524e33962c429564f6fde6\n",
            "🧪 View experiment at: https://dagshub.com/Bilal-ahmad8/Advanced-Monitoring-System.mlflow/#/experiments/0\n"
          ]
        },
        {
          "name": "stderr",
          "output_type": "stream",
          "text": [
            "[I 2025-06-23 09:58:40,728] Trial 40 finished with value: 0.01586123462766409 and parameters: {'epochs': 100, 'lr': 0.0005182848509072096, 'weight_decay': 0.0008553838447098236, 'hidden_dim': 192, 'num_layers': 1, 'biDirect_bool': True, 'dp_ratio_1': 0.5, 'dp_ratio_2': 0.5, 'inside_dp_ratio': 0.0, 'latent_dim': 16, 'batch_size': 16}. Best is trial 37 with value: 0.015546449925750494.\n"
          ]
        },
        {
          "name": "stdout",
          "output_type": "stream",
          "text": [
            "🏃 View run bald-bass-971 at: https://dagshub.com/Bilal-ahmad8/Advanced-Monitoring-System.mlflow/#/experiments/0/runs/fd321703cbeb4b8f853360eb8cea20a1\n",
            "🧪 View experiment at: https://dagshub.com/Bilal-ahmad8/Advanced-Monitoring-System.mlflow/#/experiments/0\n"
          ]
        },
        {
          "name": "stderr",
          "output_type": "stream",
          "text": [
            "[I 2025-06-23 09:58:49,920] Trial 41 finished with value: 0.015729187056422234 and parameters: {'epochs': 100, 'lr': 0.00042989016770065224, 'weight_decay': 0.0009451646893394968, 'hidden_dim': 192, 'num_layers': 1, 'biDirect_bool': True, 'dp_ratio_1': 0.5, 'dp_ratio_2': 0.5, 'inside_dp_ratio': 0.0, 'latent_dim': 16, 'batch_size': 16}. Best is trial 37 with value: 0.015546449925750494.\n"
          ]
        },
        {
          "name": "stdout",
          "output_type": "stream",
          "text": [
            "🏃 View run receptive-sheep-664 at: https://dagshub.com/Bilal-ahmad8/Advanced-Monitoring-System.mlflow/#/experiments/0/runs/43636a17236d4cb58049aa0e17103586\n",
            "🧪 View experiment at: https://dagshub.com/Bilal-ahmad8/Advanced-Monitoring-System.mlflow/#/experiments/0\n"
          ]
        },
        {
          "name": "stderr",
          "output_type": "stream",
          "text": [
            "[I 2025-06-23 09:58:59,649] Trial 42 finished with value: 0.01569321728311479 and parameters: {'epochs': 100, 'lr': 0.0004689999972330274, 'weight_decay': 0.0010952563622926147, 'hidden_dim': 192, 'num_layers': 1, 'biDirect_bool': True, 'dp_ratio_1': 0.5, 'dp_ratio_2': 0.5, 'inside_dp_ratio': 0.0, 'latent_dim': 16, 'batch_size': 16}. Best is trial 37 with value: 0.015546449925750494.\n"
          ]
        },
        {
          "name": "stdout",
          "output_type": "stream",
          "text": [
            "🏃 View run defiant-wren-571 at: https://dagshub.com/Bilal-ahmad8/Advanced-Monitoring-System.mlflow/#/experiments/0/runs/20cebe1fa21a46ddaa1506a5c0938bcc\n",
            "🧪 View experiment at: https://dagshub.com/Bilal-ahmad8/Advanced-Monitoring-System.mlflow/#/experiments/0\n"
          ]
        },
        {
          "name": "stderr",
          "output_type": "stream",
          "text": [
            "[I 2025-06-23 09:59:09,448] Trial 43 finished with value: 0.01577452104538679 and parameters: {'epochs': 100, 'lr': 0.0001843486768341468, 'weight_decay': 0.001452543961129313, 'hidden_dim': 160, 'num_layers': 1, 'biDirect_bool': True, 'dp_ratio_1': 0.5, 'dp_ratio_2': 0.5, 'inside_dp_ratio': 0.0, 'latent_dim': 16, 'batch_size': 16}. Best is trial 37 with value: 0.015546449925750494.\n"
          ]
        },
        {
          "name": "stdout",
          "output_type": "stream",
          "text": [
            "🏃 View run receptive-dog-107 at: https://dagshub.com/Bilal-ahmad8/Advanced-Monitoring-System.mlflow/#/experiments/0/runs/f87200216df84a07a68c3c0b7ffe3ebf\n",
            "🧪 View experiment at: https://dagshub.com/Bilal-ahmad8/Advanced-Monitoring-System.mlflow/#/experiments/0\n"
          ]
        },
        {
          "name": "stderr",
          "output_type": "stream",
          "text": [
            "[I 2025-06-23 09:59:19,362] Trial 44 finished with value: 0.015517797321081161 and parameters: {'epochs': 100, 'lr': 0.00017000944916968335, 'weight_decay': 0.0013483540302748093, 'hidden_dim': 160, 'num_layers': 1, 'biDirect_bool': True, 'dp_ratio_1': 0.4, 'dp_ratio_2': 0.5, 'inside_dp_ratio': 0.1, 'latent_dim': 16, 'batch_size': 16}. Best is trial 44 with value: 0.015517797321081161.\n"
          ]
        },
        {
          "name": "stdout",
          "output_type": "stream",
          "text": [
            "🏃 View run enchanting-hog-474 at: https://dagshub.com/Bilal-ahmad8/Advanced-Monitoring-System.mlflow/#/experiments/0/runs/b75286d8637c4c4289f5723047325da2\n",
            "🧪 View experiment at: https://dagshub.com/Bilal-ahmad8/Advanced-Monitoring-System.mlflow/#/experiments/0\n"
          ]
        },
        {
          "name": "stderr",
          "output_type": "stream",
          "text": [
            "[I 2025-06-23 09:59:29,105] Trial 45 finished with value: 0.015552901662886143 and parameters: {'epochs': 100, 'lr': 0.0004839990637844653, 'weight_decay': 0.0017149820764109746, 'hidden_dim': 160, 'num_layers': 1, 'biDirect_bool': True, 'dp_ratio_1': 0.4, 'dp_ratio_2': 0.5, 'inside_dp_ratio': 0.1, 'latent_dim': 16, 'batch_size': 16}. Best is trial 44 with value: 0.015517797321081161.\n"
          ]
        },
        {
          "name": "stdout",
          "output_type": "stream",
          "text": [
            "🏃 View run rebellious-worm-346 at: https://dagshub.com/Bilal-ahmad8/Advanced-Monitoring-System.mlflow/#/experiments/0/runs/23000eb978d343eb9b8375a664dfbcb6\n",
            "🧪 View experiment at: https://dagshub.com/Bilal-ahmad8/Advanced-Monitoring-System.mlflow/#/experiments/0\n"
          ]
        },
        {
          "name": "stderr",
          "output_type": "stream",
          "text": [
            "[I 2025-06-23 09:59:46,882] Trial 46 finished with value: 0.0194419976323843 and parameters: {'epochs': 100, 'lr': 0.000430883008874965, 'weight_decay': 0.002238209632414567, 'hidden_dim': 160, 'num_layers': 1, 'biDirect_bool': True, 'dp_ratio_1': 0.4, 'dp_ratio_2': 0.5, 'inside_dp_ratio': 0.1, 'latent_dim': 16, 'batch_size': 8}. Best is trial 44 with value: 0.015517797321081161.\n"
          ]
        },
        {
          "name": "stdout",
          "output_type": "stream",
          "text": [
            "🏃 View run classy-tern-15 at: https://dagshub.com/Bilal-ahmad8/Advanced-Monitoring-System.mlflow/#/experiments/0/runs/c701588cede643d1a8c388ef8de3333d\n",
            "🧪 View experiment at: https://dagshub.com/Bilal-ahmad8/Advanced-Monitoring-System.mlflow/#/experiments/0\n"
          ]
        },
        {
          "name": "stderr",
          "output_type": "stream",
          "text": [
            "[I 2025-06-23 09:59:55,436] Trial 47 finished with value: 0.01568363280966878 and parameters: {'epochs': 100, 'lr': 0.00016507168988989026, 'weight_decay': 0.0010520004269237403, 'hidden_dim': 160, 'num_layers': 1, 'biDirect_bool': False, 'dp_ratio_1': 0.4, 'dp_ratio_2': 0.5, 'inside_dp_ratio': 0.1, 'latent_dim': 16, 'batch_size': 16}. Best is trial 44 with value: 0.015517797321081161.\n"
          ]
        },
        {
          "name": "stdout",
          "output_type": "stream",
          "text": [
            "🏃 View run shivering-shark-429 at: https://dagshub.com/Bilal-ahmad8/Advanced-Monitoring-System.mlflow/#/experiments/0/runs/346c605a98114a5da25a8d107d4bab79\n",
            "🧪 View experiment at: https://dagshub.com/Bilal-ahmad8/Advanced-Monitoring-System.mlflow/#/experiments/0\n"
          ]
        },
        {
          "name": "stderr",
          "output_type": "stream",
          "text": [
            "[I 2025-06-23 10:00:02,821] Trial 48 finished with value: 0.018759719328954816 and parameters: {'epochs': 90, 'lr': 0.00010009448014864729, 'weight_decay': 0.001574899897502812, 'hidden_dim': 160, 'num_layers': 1, 'biDirect_bool': False, 'dp_ratio_1': 0.4, 'dp_ratio_2': 0.5, 'inside_dp_ratio': 0.1, 'latent_dim': 16, 'batch_size': 16}. Best is trial 44 with value: 0.015517797321081161.\n"
          ]
        },
        {
          "name": "stdout",
          "output_type": "stream",
          "text": [
            "🏃 View run casual-hen-142 at: https://dagshub.com/Bilal-ahmad8/Advanced-Monitoring-System.mlflow/#/experiments/0/runs/6b4850a402964db9b41cc0dffe9694e2\n",
            "🧪 View experiment at: https://dagshub.com/Bilal-ahmad8/Advanced-Monitoring-System.mlflow/#/experiments/0\n",
            "🏃 View run flawless-kit-671 at: https://dagshub.com/Bilal-ahmad8/Advanced-Monitoring-System.mlflow/#/experiments/0/runs/5d27fc324e684f84b29e2de4b1d7549c\n",
            "🧪 View experiment at: https://dagshub.com/Bilal-ahmad8/Advanced-Monitoring-System.mlflow/#/experiments/0\n"
          ]
        },
        {
          "name": "stderr",
          "output_type": "stream",
          "text": [
            "[I 2025-06-23 10:00:12,505] Trial 49 finished with value: 0.018798271426931024 and parameters: {'epochs': 100, 'lr': 0.0001560213275866281, 'weight_decay': 0.0041845979508699244, 'hidden_dim': 160, 'num_layers': 1, 'biDirect_bool': False, 'dp_ratio_1': 0.4, 'dp_ratio_2': 0.5, 'inside_dp_ratio': 0.1, 'latent_dim': 16, 'batch_size': 16}. Best is trial 44 with value: 0.015517797321081161.\n",
            "[I 2025-06-23 10:00:22,533] Trial 50 finished with value: 0.013516627484932542 and parameters: {'epochs': 100, 'lr': 0.00023985878405276365, 'weight_decay': 0.00010242247355504554, 'hidden_dim': 160, 'num_layers': 1, 'biDirect_bool': False, 'dp_ratio_1': 0.4, 'dp_ratio_2': 0.4, 'inside_dp_ratio': 0.30000000000000004, 'latent_dim': 16, 'batch_size': 16}. Best is trial 50 with value: 0.013516627484932542.\n"
          ]
        },
        {
          "name": "stdout",
          "output_type": "stream",
          "text": [
            "🏃 View run carefree-frog-834 at: https://dagshub.com/Bilal-ahmad8/Advanced-Monitoring-System.mlflow/#/experiments/0/runs/0c72100a9cda43d5ab991dee2895c734\n",
            "🧪 View experiment at: https://dagshub.com/Bilal-ahmad8/Advanced-Monitoring-System.mlflow/#/experiments/0\n"
          ]
        },
        {
          "name": "stderr",
          "output_type": "stream",
          "text": [
            "[I 2025-06-23 10:00:32,725] Trial 51 finished with value: 0.01353548327460885 and parameters: {'epochs': 100, 'lr': 0.0002387567865070074, 'weight_decay': 0.00012817039642676068, 'hidden_dim': 160, 'num_layers': 1, 'biDirect_bool': False, 'dp_ratio_1': 0.4, 'dp_ratio_2': 0.5, 'inside_dp_ratio': 0.30000000000000004, 'latent_dim': 16, 'batch_size': 16}. Best is trial 50 with value: 0.013516627484932542.\n"
          ]
        },
        {
          "name": "stdout",
          "output_type": "stream",
          "text": [
            "🏃 View run gentle-stoat-48 at: https://dagshub.com/Bilal-ahmad8/Advanced-Monitoring-System.mlflow/#/experiments/0/runs/1570abedff6e4701bfeaa36b89492b5e\n",
            "🧪 View experiment at: https://dagshub.com/Bilal-ahmad8/Advanced-Monitoring-System.mlflow/#/experiments/0\n",
            "🏃 View run puzzled-pig-708 at: https://dagshub.com/Bilal-ahmad8/Advanced-Monitoring-System.mlflow/#/experiments/0/runs/7d9b7759cef2484e9e18ab6c97596bfa\n",
            "🧪 View experiment at: https://dagshub.com/Bilal-ahmad8/Advanced-Monitoring-System.mlflow/#/experiments/0\n"
          ]
        },
        {
          "name": "stderr",
          "output_type": "stream",
          "text": [
            "[I 2025-06-23 10:00:42,507] Trial 52 finished with value: 0.013506844406947494 and parameters: {'epochs': 90, 'lr': 0.0002455994016967061, 'weight_decay': 0.00012299535026095702, 'hidden_dim': 160, 'num_layers': 1, 'biDirect_bool': False, 'dp_ratio_1': 0.4, 'dp_ratio_2': 0.4, 'inside_dp_ratio': 0.30000000000000004, 'latent_dim': 16, 'batch_size': 16}. Best is trial 52 with value: 0.013506844406947494.\n"
          ]
        },
        {
          "name": "stdout",
          "output_type": "stream",
          "text": [
            "🏃 View run bittersweet-goat-957 at: https://dagshub.com/Bilal-ahmad8/Advanced-Monitoring-System.mlflow/#/experiments/0/runs/92ab38462e7246608b9a431f0a9e4c61\n",
            "🧪 View experiment at: https://dagshub.com/Bilal-ahmad8/Advanced-Monitoring-System.mlflow/#/experiments/0\n"
          ]
        },
        {
          "name": "stderr",
          "output_type": "stream",
          "text": [
            "[I 2025-06-23 10:00:52,504] Trial 53 finished with value: 0.01314872456714511 and parameters: {'epochs': 90, 'lr': 0.00027870155074453235, 'weight_decay': 0.00010369100094430996, 'hidden_dim': 128, 'num_layers': 1, 'biDirect_bool': False, 'dp_ratio_1': 0.4, 'dp_ratio_2': 0.4, 'inside_dp_ratio': 0.30000000000000004, 'latent_dim': 16, 'batch_size': 16}. Best is trial 53 with value: 0.01314872456714511.\n"
          ]
        },
        {
          "name": "stdout",
          "output_type": "stream",
          "text": [
            "🏃 View run valuable-slug-786 at: https://dagshub.com/Bilal-ahmad8/Advanced-Monitoring-System.mlflow/#/experiments/0/runs/51ff3a9c52c745de8d497e3a3d0b090a\n",
            "🧪 View experiment at: https://dagshub.com/Bilal-ahmad8/Advanced-Monitoring-System.mlflow/#/experiments/0\n"
          ]
        },
        {
          "name": "stderr",
          "output_type": "stream",
          "text": [
            "[I 2025-06-23 10:01:02,515] Trial 54 finished with value: 0.013383477460592985 and parameters: {'epochs': 90, 'lr': 0.00022594918403830253, 'weight_decay': 0.00010448123599476678, 'hidden_dim': 128, 'num_layers': 1, 'biDirect_bool': False, 'dp_ratio_1': 0.4, 'dp_ratio_2': 0.4, 'inside_dp_ratio': 0.30000000000000004, 'latent_dim': 16, 'batch_size': 16}. Best is trial 53 with value: 0.01314872456714511.\n"
          ]
        },
        {
          "name": "stdout",
          "output_type": "stream",
          "text": [
            "🏃 View run able-boar-707 at: https://dagshub.com/Bilal-ahmad8/Advanced-Monitoring-System.mlflow/#/experiments/0/runs/20b885da3fc74864abdad21e7c00b8c5\n",
            "🧪 View experiment at: https://dagshub.com/Bilal-ahmad8/Advanced-Monitoring-System.mlflow/#/experiments/0\n"
          ]
        },
        {
          "name": "stderr",
          "output_type": "stream",
          "text": [
            "[I 2025-06-23 10:01:12,498] Trial 55 finished with value: 0.01362249068915844 and parameters: {'epochs': 90, 'lr': 0.00022925209245749925, 'weight_decay': 0.00010155832483636232, 'hidden_dim': 128, 'num_layers': 1, 'biDirect_bool': False, 'dp_ratio_1': 0.4, 'dp_ratio_2': 0.4, 'inside_dp_ratio': 0.30000000000000004, 'latent_dim': 16, 'batch_size': 16}. Best is trial 53 with value: 0.01314872456714511.\n"
          ]
        },
        {
          "name": "stdout",
          "output_type": "stream",
          "text": [
            "🏃 View run wistful-hawk-226 at: https://dagshub.com/Bilal-ahmad8/Advanced-Monitoring-System.mlflow/#/experiments/0/runs/92ec946fe6d14335a956d48510e1f1ac\n",
            "🧪 View experiment at: https://dagshub.com/Bilal-ahmad8/Advanced-Monitoring-System.mlflow/#/experiments/0\n"
          ]
        },
        {
          "name": "stderr",
          "output_type": "stream",
          "text": [
            "[I 2025-06-23 10:01:22,509] Trial 56 finished with value: 0.012777445605024695 and parameters: {'epochs': 90, 'lr': 0.0002774418219145796, 'weight_decay': 0.00010323798038326245, 'hidden_dim': 128, 'num_layers': 1, 'biDirect_bool': False, 'dp_ratio_1': 0.30000000000000004, 'dp_ratio_2': 0.4, 'inside_dp_ratio': 0.30000000000000004, 'latent_dim': 16, 'batch_size': 16}. Best is trial 56 with value: 0.012777445605024695.\n",
            "[I 2025-06-23 10:01:35,913] Trial 57 finished with value: 0.0152214290574193 and parameters: {'epochs': 90, 'lr': 0.0002850342704918984, 'weight_decay': 0.0001264371781693307, 'hidden_dim': 96, 'num_layers': 1, 'biDirect_bool': False, 'dp_ratio_1': 0.30000000000000004, 'dp_ratio_2': 0.30000000000000004, 'inside_dp_ratio': 0.30000000000000004, 'latent_dim': 16, 'batch_size': 8}. Best is trial 56 with value: 0.012777445605024695.\n"
          ]
        },
        {
          "name": "stdout",
          "output_type": "stream",
          "text": [
            "🏃 View run puzzled-robin-11 at: https://dagshub.com/Bilal-ahmad8/Advanced-Monitoring-System.mlflow/#/experiments/0/runs/044e46742e8545b2a42c7bcf27e66ba1\n",
            "🧪 View experiment at: https://dagshub.com/Bilal-ahmad8/Advanced-Monitoring-System.mlflow/#/experiments/0\n"
          ]
        },
        {
          "name": "stderr",
          "output_type": "stream",
          "text": [
            "[I 2025-06-23 10:01:42,780] Trial 58 finished with value: 0.013447078177705407 and parameters: {'epochs': 90, 'lr': 0.0002703253587745674, 'weight_decay': 0.0001909177862177531, 'hidden_dim': 128, 'num_layers': 1, 'biDirect_bool': False, 'dp_ratio_1': 0.30000000000000004, 'dp_ratio_2': 0.4, 'inside_dp_ratio': 0.4, 'latent_dim': 16, 'batch_size': 16}. Best is trial 56 with value: 0.012777445605024695.\n"
          ]
        },
        {
          "name": "stdout",
          "output_type": "stream",
          "text": [
            "🏃 View run calm-owl-317 at: https://dagshub.com/Bilal-ahmad8/Advanced-Monitoring-System.mlflow/#/experiments/0/runs/3155a03c164e4d1c8278a496762a7180\n",
            "🧪 View experiment at: https://dagshub.com/Bilal-ahmad8/Advanced-Monitoring-System.mlflow/#/experiments/0\n",
            "🏃 View run traveling-stork-446 at: https://dagshub.com/Bilal-ahmad8/Advanced-Monitoring-System.mlflow/#/experiments/0/runs/d1baa2a07a7b4aa5a9720e779be596ee\n",
            "🧪 View experiment at: https://dagshub.com/Bilal-ahmad8/Advanced-Monitoring-System.mlflow/#/experiments/0\n"
          ]
        },
        {
          "name": "stderr",
          "output_type": "stream",
          "text": [
            "[I 2025-06-23 10:01:52,507] Trial 59 finished with value: 0.01458319928497076 and parameters: {'epochs': 90, 'lr': 0.0007015805508826385, 'weight_decay': 0.0001961305665201039, 'hidden_dim': 128, 'num_layers': 1, 'biDirect_bool': False, 'dp_ratio_1': 0.2, 'dp_ratio_2': 0.4, 'inside_dp_ratio': 0.4, 'latent_dim': 16, 'batch_size': 16}. Best is trial 56 with value: 0.012777445605024695.\n"
          ]
        }
      ],
      "source": [
        "study.optimize(objective, n_trials=60)"
      ]
    },
    {
      "cell_type": "code",
      "execution_count": null,
      "metadata": {
        "colab": {
          "base_uri": "https://localhost:8080/"
        },
        "id": "STC01nF6EyMl",
        "outputId": "d3fe5a8f-e321-46c4-8590-b73e7fd6f1b8"
      },
      "outputs": [
        {
          "name": "stdout",
          "output_type": "stream",
          "text": [
            "{'epochs': 90, 'lr': 0.0002774418219145796, 'weight_decay': 0.00010323798038326245, 'hidden_dim': 128, 'num_layers': 1, 'biDirect_bool': False, 'dp_ratio_1': 0.30000000000000004, 'dp_ratio_2': 0.4, 'inside_dp_ratio': 0.30000000000000004, 'latent_dim': 16, 'batch_size': 16}\n",
            "0.012777445605024695\n"
          ]
        }
      ],
      "source": [
        "print(study.best_params)\n",
        "print(study.best_value)"
      ]
    },
    {
      "cell_type": "code",
      "execution_count": 16,
      "metadata": {
        "colab": {
          "base_uri": "https://localhost:8080/"
        },
        "id": "GlEO96puPvH-",
        "outputId": "984ed6c6-1da2-46c9-dbf3-c9a75526d8f3"
      },
      "outputs": [
        {
          "name": "stdout",
          "output_type": "stream",
          "text": [
            "Epoch: 1, Train Loss: 0.06887767720036209, Val Loss: 0.028579071629792452\n",
            "Epoch: 2, Train Loss: 0.05362594820326194, Val Loss: 0.019568184856325388\n",
            "Epoch: 3, Train Loss: 0.04197114199632779, Val Loss: 0.021005841437727213\n",
            "Epoch: 4, Train Loss: 0.03964998706942424, Val Loss: 0.018699633656069636\n",
            "Epoch: 5, Train Loss: 0.03838607395300642, Val Loss: 0.018827762454748154\n",
            "Epoch: 6, Train Loss: 0.03804721403867006, Val Loss: 0.019353498937562108\n",
            "Epoch: 7, Train Loss: 0.03763783519389108, Val Loss: 0.018953718012198806\n",
            "Epoch: 8, Train Loss: 0.03703778370982036, Val Loss: 0.018964391900226474\n",
            "Epoch: 9, Train Loss: 0.03673033963423222, Val Loss: 0.01909711677581072\n",
            "Epoch: 10, Train Loss: 0.036064094805624336, Val Loss: 0.01880137179978192\n",
            "Epoch: 11, Train Loss: 0.035500498954206705, Val Loss: 0.01875845226459205\n",
            "Epoch: 12, Train Loss: 0.034039479680359364, Val Loss: 0.018154600635170937\n",
            "Epoch: 13, Train Loss: 0.03183204255765304, Val Loss: 0.01739744027145207\n",
            "Epoch: 14, Train Loss: 0.0296556344255805, Val Loss: 0.01699953549541533\n",
            "Epoch: 15, Train Loss: 0.026247810281347483, Val Loss: 0.016713587567210197\n",
            "Epoch: 16, Train Loss: 0.026132831582799554, Val Loss: 0.016788152744993567\n",
            "Epoch: 17, Train Loss: 0.024866948719136417, Val Loss: 0.016449901508167386\n",
            "Epoch: 18, Train Loss: 0.024525115557480603, Val Loss: 0.01639961334876716\n",
            "Epoch: 19, Train Loss: 0.024328038227395155, Val Loss: 0.016345490468665957\n",
            "Epoch: 20, Train Loss: 0.023682751110754907, Val Loss: 0.01615749392658472\n",
            "Epoch: 21, Train Loss: 0.023878664083895274, Val Loss: 0.016138446982949972\n",
            "Epoch: 22, Train Loss: 0.02368409078917466, Val Loss: 0.016014051856473088\n",
            "Epoch: 23, Train Loss: 0.023271711776033044, Val Loss: 0.015930606750771403\n",
            "Epoch: 24, Train Loss: 0.023397781129460782, Val Loss: 0.0159862176515162\n",
            "Epoch: 25, Train Loss: 0.023400543548632413, Val Loss: 0.015811787685379386\n",
            "Epoch: 26, Train Loss: 0.023096037810319103, Val Loss: 0.01574732200242579\n",
            "Epoch: 27, Train Loss: 0.023223764932481572, Val Loss: 0.01574395364150405\n",
            "Epoch: 28, Train Loss: 0.022776601632358506, Val Loss: 0.015736932633444667\n",
            "Epoch: 29, Train Loss: 0.022778348095016554, Val Loss: 0.015570125309750438\n",
            "Epoch: 30, Train Loss: 0.022810415306594223, Val Loss: 0.015582843217998743\n",
            "Epoch: 31, Train Loss: 0.02270713305915706, Val Loss: 0.01557182869873941\n",
            "Epoch: 32, Train Loss: 0.02246376994298771, Val Loss: 0.015361843165010214\n",
            "Epoch: 33, Train Loss: 0.022858117197756656, Val Loss: 0.015411970671266317\n",
            "Epoch: 34, Train Loss: 0.02253728310461156, Val Loss: 0.015342361526563764\n",
            "Epoch: 35, Train Loss: 0.02241274996777065, Val Loss: 0.015273156808689237\n",
            "Epoch: 36, Train Loss: 0.022333790984703228, Val Loss: 0.015163138275966048\n",
            "Epoch: 37, Train Loss: 0.02230324674746953, Val Loss: 0.0151692945510149\n",
            "Epoch: 38, Train Loss: 0.02234159506042488, Val Loss: 0.015040258644148707\n",
            "Epoch: 39, Train Loss: 0.022092190862167627, Val Loss: 0.015160674462094903\n",
            "Epoch: 40, Train Loss: 0.022133377264253795, Val Loss: 0.0149650271050632\n",
            "Epoch: 41, Train Loss: 0.022227990368264727, Val Loss: 0.014831971609964967\n",
            "Epoch: 42, Train Loss: 0.02174879505764693, Val Loss: 0.014781872509047389\n",
            "Epoch: 43, Train Loss: 0.02184299289365299, Val Loss: 0.014627159107476473\n",
            "Epoch: 44, Train Loss: 0.022477237464045174, Val Loss: 0.01473880372941494\n",
            "Epoch: 45, Train Loss: 0.021626070694765076, Val Loss: 0.014512751484289765\n",
            "Epoch: 46, Train Loss: 0.021504819946130738, Val Loss: 0.014408985385671258\n",
            "Epoch: 47, Train Loss: 0.021639325801515952, Val Loss: 0.01453345618210733\n",
            "Epoch: 48, Train Loss: 0.02168947903555818, Val Loss: 0.0142161357216537\n",
            "Epoch: 49, Train Loss: 0.021168861247133464, Val Loss: 0.014146263711154461\n",
            "Epoch: 50, Train Loss: 0.02157597769109998, Val Loss: 0.014502157922834158\n",
            "Epoch: 51, Train Loss: 0.021331011172151193, Val Loss: 0.01403074525296688\n",
            "Epoch: 52, Train Loss: 0.021361981009249575, Val Loss: 0.014102990506216884\n",
            "Epoch: 53, Train Loss: 0.020828337030252442, Val Loss: 0.01387799228541553\n",
            "Epoch: 54, Train Loss: 0.021166615653783083, Val Loss: 0.014091436984017491\n",
            "Epoch: 55, Train Loss: 0.020841370715061203, Val Loss: 0.013718820177018642\n",
            "Epoch: 56, Train Loss: 0.02105022109753918, Val Loss: 0.013874899363145232\n",
            "Epoch: 57, Train Loss: 0.02036365808453411, Val Loss: 0.013694113586097956\n",
            "Epoch: 58, Train Loss: 0.020913977758027613, Val Loss: 0.0137745076790452\n",
            "Epoch: 59, Train Loss: 0.020361136324936524, Val Loss: 0.013621446443721652\n",
            "Epoch: 60, Train Loss: 0.020264178921934217, Val Loss: 0.013488241471350193\n",
            "Epoch: 61, Train Loss: 0.02025633869925514, Val Loss: 0.013512833509594202\n",
            "Epoch: 62, Train Loss: 0.020007923827506602, Val Loss: 0.013300238642841578\n",
            "Epoch: 63, Train Loss: 0.01994617987656966, Val Loss: 0.013359607197344303\n",
            "Epoch: 64, Train Loss: 0.019807126387604512, Val Loss: 0.013158767949789762\n",
            "Epoch: 65, Train Loss: 0.019676830735988915, Val Loss: 0.013222635723650455\n",
            "Epoch: 66, Train Loss: 0.01964478980517015, Val Loss: 0.013258680934086442\n",
            "Epoch: 67, Train Loss: 0.01969208475202322, Val Loss: 0.013052800437435508\n",
            "Epoch: 68, Train Loss: 0.019242697468143888, Val Loss: 0.013044970110058784\n",
            "Epoch: 69, Train Loss: 0.019241723799495958, Val Loss: 0.01311592967249453\n",
            "Epoch: 70, Train Loss: 0.019440552379819565, Val Loss: 0.01283408934250474\n",
            "Epoch: 71, Train Loss: 0.01903236699581612, Val Loss: 0.012888383818790317\n",
            "Epoch: 72, Train Loss: 0.018671682628337294, Val Loss: 0.012711582472547889\n",
            "Epoch: 73, Train Loss: 0.01868526187899988, Val Loss: 0.012678482104092836\n",
            "Epoch: 74, Train Loss: 0.018903767369920388, Val Loss: 0.013576484052464366\n",
            "Epoch: 75, Train Loss: 0.01940956132602878, Val Loss: 0.012941023800522089\n",
            "Epoch: 76, Train Loss: 0.019687530410010368, Val Loss: 0.01351053616963327\n",
            "Epoch: 77, Train Loss: 0.018627254525199533, Val Loss: 0.01260693883523345\n",
            "Epoch: 78, Train Loss: 0.019578050763811916, Val Loss: 0.013172660721465945\n",
            "Epoch: 79, Train Loss: 0.019390059751458466, Val Loss: 0.01235055341385305\n",
            "Epoch: 80, Train Loss: 0.020959759538527578, Val Loss: 0.012945773778483272\n",
            "Epoch: 81, Train Loss: 0.01941511538461782, Val Loss: 0.012864886783063412\n",
            "Epoch: 82, Train Loss: 0.022269259541644715, Val Loss: 0.014142272295430303\n",
            "Epoch: 83, Train Loss: 0.019494450258207507, Val Loss: 0.012564281467348337\n",
            "Epoch: 84, Train Loss: 0.01944930614263285, Val Loss: 0.012728412635624409\n",
            "Epoch: 85, Train Loss: 0.0185862404468935, Val Loss: 0.01247713714838028\n",
            "Epoch: 86, Train Loss: 0.018295691945240833, Val Loss: 0.012482456862926483\n",
            "Epoch: 87, Train Loss: 0.01800169529451523, Val Loss: 0.012490561697632074\n",
            "Epoch: 88, Train Loss: 0.017970064363908023, Val Loss: 0.01244934368878603\n",
            "Epoch: 89, Train Loss: 0.01795278672943823, Val Loss: 0.012410314520820975\n",
            "Epoch: 90, Train Loss: 0.017900660590385087, Val Loss: 0.012373209465295076\n"
          ]
        }
      ],
      "source": [
        "epochs = 90\n",
        "lr = 0.0002774418219145796\n",
        "weight_decay = 0.00010323798038326245\n",
        "batch_size = 16\n",
        "train_loader = DataLoader(train_dataset, batch_size=16, shuffle=False,pin_memory=True)\n",
        "val_loader = DataLoader(val_dataset, batch_size=16, shuffle=False, pin_memory=True)\n",
        "\n",
        "model = LSTMAutoEncoder(input_dim=6, hidden_dim=128, num_layers=1, biDirect_bool=False, dp_ratio_1=0.30, dp_ratio_2=0.30, latent_dim=16, inside_dp_ratio=0.0).to(device)\n",
        "optimizer = optim.Adam(model.parameters(), lr=lr, weight_decay=weight_decay)\n",
        "criterion = nn.MSELoss()\n",
        "\n",
        "for i in range(epochs):\n",
        "  train_loss = train(model, train_loader, batch_size=batch_size, optimizer=optimizer, criterion=criterion)\n",
        "  val_loss = val(model, val_loader, batch_size=batch_size, optimizer=optimizer, criterion=criterion)\n",
        "  print(f'Epoch: {i+1}, Train Loss: {train_loss}, Val Loss: {val_loss}')\n"
      ]
    },
    {
      "cell_type": "code",
      "execution_count": null,
      "metadata": {
        "id": "XGihrpeRS4hY"
      },
      "outputs": [],
      "source": [
        "#torch.save(model.state_dict(), 'model_parameters')\n",
        "#torch.save(model, 'final_model')"
      ]
    },
    {
      "cell_type": "code",
      "execution_count": null,
      "metadata": {
        "colab": {
          "base_uri": "https://localhost:8080/"
        },
        "id": "4_O5061zUFIk",
        "outputId": "b421dff8-ffb8-41db-a715-b3d52a379b54"
      },
      "outputs": [
        {
          "name": "stderr",
          "output_type": "stream",
          "text": [
            "2025/06/23 10:24:55 WARNING mlflow.utils.requirements_utils: Found torch version (2.6.0+cu124) contains a local version label (+cu124). MLflow logged a pip requirement for this package as 'torch==2.6.0' without the local version label to make it installable from PyPI. To specify pip requirements containing local version labels, please use `conda_env` or `pip_requirements`.\n",
            "2025/06/23 10:25:03 WARNING mlflow.utils.requirements_utils: Found torch version (2.6.0+cu124) contains a local version label (+cu124). MLflow logged a pip requirement for this package as 'torch==2.6.0' without the local version label to make it installable from PyPI. To specify pip requirements containing local version labels, please use `conda_env` or `pip_requirements`.\n"
          ]
        }
      ],
      "source": [
        "#mlflow.pytorch.save_model(model, \"model\")\n",
        "#mlflow.log_artifact(\"model\")\n"
      ]
    },
    {
      "cell_type": "code",
      "execution_count": null,
      "metadata": {
        "id": "jIOqNeq5eOoL"
      },
      "outputs": [],
      "source": []
    }
  ],
  "metadata": {
    "accelerator": "GPU",
    "colab": {
      "gpuType": "T4",
      "provenance": []
    },
    "kernelspec": {
      "display_name": "Python 3",
      "name": "python3"
    },
    "language_info": {
      "name": "python"
    },
    "widgets": {
      "application/vnd.jupyter.widget-state+json": {
        "d7b0495ef5a2465b8c8895c4c2483f74": {
          "model_module": "@jupyter-widgets/base",
          "model_module_version": "1.2.0",
          "model_name": "LayoutModel",
          "state": {
            "_model_module": "@jupyter-widgets/base",
            "_model_module_version": "1.2.0",
            "_model_name": "LayoutModel",
            "_view_count": null,
            "_view_module": "@jupyter-widgets/base",
            "_view_module_version": "1.2.0",
            "_view_name": "LayoutView",
            "align_content": null,
            "align_items": null,
            "align_self": null,
            "border": null,
            "bottom": null,
            "display": null,
            "flex": null,
            "flex_flow": null,
            "grid_area": null,
            "grid_auto_columns": null,
            "grid_auto_flow": null,
            "grid_auto_rows": null,
            "grid_column": null,
            "grid_gap": null,
            "grid_row": null,
            "grid_template_areas": null,
            "grid_template_columns": null,
            "grid_template_rows": null,
            "height": null,
            "justify_content": null,
            "justify_items": null,
            "left": null,
            "margin": null,
            "max_height": null,
            "max_width": null,
            "min_height": null,
            "min_width": null,
            "object_fit": null,
            "object_position": null,
            "order": null,
            "overflow": null,
            "overflow_x": null,
            "overflow_y": null,
            "padding": null,
            "right": null,
            "top": null,
            "visibility": null,
            "width": null
          }
        },
        "dc76464366d246b5802aca86ca0f0d04": {
          "model_module": "@jupyter-widgets/output",
          "model_module_version": "1.0.0",
          "model_name": "OutputModel",
          "state": {
            "_dom_classes": [],
            "_model_module": "@jupyter-widgets/output",
            "_model_module_version": "1.0.0",
            "_model_name": "OutputModel",
            "_view_count": null,
            "_view_module": "@jupyter-widgets/output",
            "_view_module_version": "1.0.0",
            "_view_name": "OutputView",
            "layout": "IPY_MODEL_d7b0495ef5a2465b8c8895c4c2483f74",
            "msg_id": "",
            "outputs": [
              {
                "data": {
                  "text/html": "<pre style=\"white-space:pre;overflow-x:auto;line-height:normal;font-family:Menlo,'DejaVu Sans Mono',consolas,'Courier New',monospace\"><span style=\"color: #008000; text-decoration-color: #008000\">⠙</span> Waiting for authorization\n</pre>\n",
                  "text/plain": "\u001b[32m⠙\u001b[0m Waiting for authorization\n"
                },
                "metadata": {},
                "output_type": "display_data"
              }
            ]
          }
        }
      }
    }
  },
  "nbformat": 4,
  "nbformat_minor": 0
}

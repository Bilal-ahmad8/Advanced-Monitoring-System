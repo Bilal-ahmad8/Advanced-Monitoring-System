{
 "cells": [
  {
   "cell_type": "code",
   "execution_count": 1,
   "id": "e1d5d592",
   "metadata": {},
   "outputs": [],
   "source": [
    "import os\n"
   ]
  },
  {
   "cell_type": "code",
   "execution_count": 2,
   "id": "862a6e36",
   "metadata": {},
   "outputs": [
    {
     "data": {
      "text/plain": [
       "'e:\\\\End-to-End-Project\\\\Advanced-Monitoring-System\\\\ml\\\\notebooks'"
      ]
     },
     "execution_count": 2,
     "metadata": {},
     "output_type": "execute_result"
    }
   ],
   "source": [
    "pwd"
   ]
  },
  {
   "cell_type": "code",
   "execution_count": 3,
   "id": "17232102",
   "metadata": {},
   "outputs": [],
   "source": [
    "os.chdir('..')"
   ]
  },
  {
   "cell_type": "code",
   "execution_count": 4,
   "id": "cf381fc7",
   "metadata": {},
   "outputs": [
    {
     "data": {
      "text/plain": [
       "'e:\\\\End-to-End-Project\\\\Advanced-Monitoring-System\\\\ml'"
      ]
     },
     "execution_count": 4,
     "metadata": {},
     "output_type": "execute_result"
    }
   ],
   "source": [
    "pwd"
   ]
  },
  {
   "cell_type": "code",
   "execution_count": 5,
   "id": "3aa86b5e",
   "metadata": {},
   "outputs": [],
   "source": [
    "import torch\n",
    "import pandas as pd\n",
    "from torch.utils.data import DataLoader, Dataset\n",
    "import torch.nn as nn"
   ]
  },
  {
   "cell_type": "code",
   "execution_count": 6,
   "id": "5b2e10d7",
   "metadata": {},
   "outputs": [],
   "source": [
    "train_data = pd.read_csv(r'secondary_data\\Validation_df.csv')\n",
    "val_data = pd.read_csv(r'secondary_data\\Training_df.csv')"
   ]
  },
  {
   "cell_type": "code",
   "execution_count": 7,
   "id": "ccbae6d7",
   "metadata": {},
   "outputs": [],
   "source": [
    "train_data.drop(['timestamp'], axis=1, inplace=True)\n",
    "val_data.drop(['timestamp'], axis=1, inplace=True)"
   ]
  },
  {
   "cell_type": "code",
   "execution_count": 8,
   "id": "1f67322e",
   "metadata": {},
   "outputs": [],
   "source": [
    "combined_data = pd.concat([train_data, val_data], axis=0, ignore_index=True)"
   ]
  },
  {
   "cell_type": "code",
   "execution_count": 9,
   "id": "1a675120",
   "metadata": {},
   "outputs": [],
   "source": [
    "def create_sequences(data, seq_len):\n",
    "  sequences = []\n",
    "  for i in range(len(data)-seq_len+1):\n",
    "    seq = data[i:i+seq_len]\n",
    "    sequences.append(seq)\n",
    "  sequences = torch.tensor(sequences, dtype = torch.float32)\n",
    "\n",
    "  return sequences, sequences.clone()\n",
    "\n",
    "class CustomDataset(Dataset):\n",
    "  def __init__(self,data, seq_len):\n",
    "    self.data , self.targets = create_sequences(data, seq_len)\n",
    "\n",
    "  def __len__(self):\n",
    "    return len(self.data)\n",
    "\n",
    "  def __getitem__(self, idx):\n",
    "    return self.data[idx], self.targets[idx]"
   ]
  },
  {
   "cell_type": "code",
   "execution_count": 10,
   "id": "358cfc74",
   "metadata": {},
   "outputs": [
    {
     "name": "stderr",
     "output_type": "stream",
     "text": [
      "C:\\Users\\bilal\\AppData\\Local\\Temp\\ipykernel_3928\\1338544356.py:6: UserWarning: Creating a tensor from a list of numpy.ndarrays is extremely slow. Please consider converting the list to a single numpy.ndarray with numpy.array() before converting to a tensor. (Triggered internally at C:\\actions-runner\\_work\\pytorch\\pytorch\\pytorch\\torch\\csrc\\utils\\tensor_new.cpp:257.)\n",
      "  sequences = torch.tensor(sequences, dtype = torch.float32)\n"
     ]
    }
   ],
   "source": [
    "val_dataset = CustomDataset(combined_data.values, 20)"
   ]
  },
  {
   "cell_type": "code",
   "execution_count": 11,
   "id": "ff0b5e95",
   "metadata": {},
   "outputs": [
    {
     "data": {
      "text/plain": [
       "322"
      ]
     },
     "execution_count": 11,
     "metadata": {},
     "output_type": "execute_result"
    }
   ],
   "source": [
    "len(val_dataset)"
   ]
  },
  {
   "cell_type": "code",
   "execution_count": 12,
   "id": "8e8c66bc",
   "metadata": {},
   "outputs": [],
   "source": [
    "val_loader = DataLoader(dataset=val_dataset, shuffle=False, batch_size=4)"
   ]
  },
  {
   "cell_type": "code",
   "execution_count": 13,
   "id": "50a95e10",
   "metadata": {},
   "outputs": [
    {
     "data": {
      "text/plain": [
       "81"
      ]
     },
     "execution_count": 13,
     "metadata": {},
     "output_type": "execute_result"
    }
   ],
   "source": [
    "len(val_loader)"
   ]
  },
  {
   "cell_type": "code",
   "execution_count": 14,
   "id": "5128afbf",
   "metadata": {},
   "outputs": [],
   "source": [
    "class LSTMAutoEncoder(nn.Module):\n",
    "  def __init__(self, input_dim, hidden_dim, num_layers, biDirect_bool, dp_ratio_1, dp_ratio_2,inside_dp_ratio, latent_dim):\n",
    "    super().__init__()\n",
    "    self.encoder = nn.LSTM(input_size=input_dim, hidden_size=hidden_dim, num_layers=num_layers,\n",
    "                           dropout=inside_dp_ratio,batch_first=True, bidirectional=biDirect_bool)\n",
    "\n",
    "    self.dropout = nn.Dropout(dp_ratio_1)\n",
    "    self.fc = nn.Linear(hidden_dim*2 if biDirect_bool else hidden_dim, latent_dim)\n",
    "\n",
    "    self.decoder = nn.LSTM(input_size=latent_dim, hidden_size=hidden_dim, num_layers=num_layers,\n",
    "                           dropout=inside_dp_ratio, batch_first=True)\n",
    "\n",
    "    self.dropout2 = nn.Dropout(dp_ratio_2)\n",
    "    self.fc2 = nn.Linear(hidden_dim, input_dim)\n",
    "\n",
    "  def forward(self, x):\n",
    "    _, (h_n, _) = self.encoder(x)\n",
    "\n",
    "    if self.encoder.bidirectional:\n",
    "      h_n_combined = torch.cat((h_n[-2], h_n[-1]), dim=1)\n",
    "    else:\n",
    "      h_n_combined = h_n[-1]\n",
    "\n",
    "    h_n_combined = self.dropout(h_n_combined)\n",
    "    fc1_out = self.fc(h_n_combined)\n",
    "    latent = fc1_out.unsqueeze(1).repeat(1, x.size(1), 1)\n",
    "\n",
    "    decoded, _ = self.decoder(latent)\n",
    "    decoded = self.dropout2(decoded)\n",
    "    final_decoded = self.fc2(decoded)\n",
    "\n",
    "    return final_decoded\n"
   ]
  },
  {
   "cell_type": "code",
   "execution_count": 18,
   "id": "cf6ba2c9",
   "metadata": {},
   "outputs": [],
   "source": [
    "model = LSTMAutoEncoder(input_dim=6, hidden_dim=128, num_layers=1, biDirect_bool=False, dp_ratio_1=0.30000000000000004, dp_ratio_2=0.30000000000000004, inside_dp_ratio=0.0 , latent_dim=16)"
   ]
  },
  {
   "cell_type": "code",
   "execution_count": 19,
   "id": "0ba72d3c",
   "metadata": {},
   "outputs": [
    {
     "data": {
      "text/plain": [
       "<All keys matched successfully>"
      ]
     },
     "execution_count": 19,
     "metadata": {},
     "output_type": "execute_result"
    }
   ],
   "source": [
    "model.load_state_dict(torch.load(r'notebooks\\model_parameters', map_location=torch.device('cpu')))"
   ]
  },
  {
   "cell_type": "code",
   "execution_count": 20,
   "id": "3dd0d368",
   "metadata": {},
   "outputs": [],
   "source": [
    "device = 'cpu'"
   ]
  },
  {
   "cell_type": "code",
   "execution_count": 21,
   "id": "5548ec80",
   "metadata": {},
   "outputs": [],
   "source": [
    "def val(model, valloader, criterion):\n",
    "  model.eval()\n",
    "  total_loss = 0.0\n",
    "  per_batch_loss = []\n",
    "  with torch.no_grad():\n",
    "    for data , target in valloader:\n",
    "      data, target = data.to(device), target.to(device)\n",
    "      output = model(data)\n",
    "      loss = criterion(output, target)\n",
    "\n",
    "      total_loss += loss.item()\n",
    "      per_batch_loss.append(loss.item())\n",
    "\n",
    "  return total_loss/ len(valloader), per_batch_loss"
   ]
  },
  {
   "cell_type": "code",
   "execution_count": 22,
   "id": "5ac9c78e",
   "metadata": {},
   "outputs": [],
   "source": [
    "#optimizer = torch.optim.Adam(model.parameters(),lr=0.0002774418219145796 , weight_decay=0.00010323798038326245 )\n",
    "criterion = nn.MSELoss()"
   ]
  },
  {
   "cell_type": "code",
   "execution_count": 23,
   "id": "40240fff",
   "metadata": {},
   "outputs": [],
   "source": [
    "loss , loss_bt= val(model, val_loader, criterion)"
   ]
  },
  {
   "cell_type": "code",
   "execution_count": 24,
   "id": "84a4ef68",
   "metadata": {},
   "outputs": [
    {
     "data": {
      "text/plain": [
       "0.01656241684485181"
      ]
     },
     "execution_count": 24,
     "metadata": {},
     "output_type": "execute_result"
    }
   ],
   "source": [
    "loss"
   ]
  },
  {
   "cell_type": "code",
   "execution_count": 25,
   "id": "f18144f0",
   "metadata": {},
   "outputs": [
    {
     "data": {
      "text/plain": [
       "81"
      ]
     },
     "execution_count": 25,
     "metadata": {},
     "output_type": "execute_result"
    }
   ],
   "source": [
    "len(loss_bt)"
   ]
  },
  {
   "cell_type": "code",
   "execution_count": 26,
   "id": "db18f5e7",
   "metadata": {},
   "outputs": [
    {
     "data": {
      "image/png": "[encoded data removed]",
      "text/plain": [
       "<Figure size 800x400 with 1 Axes>"
      ]
     },
     "metadata": {},
     "output_type": "display_data"
    }
   ],
   "source": [
    "import matplotlib.pyplot as plt\n",
    "\n",
    "plt.figure(figsize=(8, 4))\n",
    "plt.hist(loss_bt, alpha=0.7, color='blue')\n",
    "plt.title(\"Histogram of Reconstruction Errors\")\n",
    "plt.xlabel(\"Reconstruction Error (MSE)\")\n",
    "plt.ylabel(\"Frequency\")\n",
    "plt.grid(True)\n",
    "plt.show()\n"
   ]
  },
  {
   "cell_type": "code",
   "execution_count": 27,
   "id": "21e42c79",
   "metadata": {},
   "outputs": [
    {
     "name": "stdout",
     "output_type": "stream",
     "text": [
      "90th percentile : 0.031969666481018066\n",
      "95th percentile : 0.03749861940741539\n",
      "97.5th percentile : 0.04435153305530548\n",
      "99th percentile : 0.04592675119638444\n"
     ]
    }
   ],
   "source": [
    "import numpy as np\n",
    "error_arr = np.array(loss_bt)\n",
    "\n",
    "percentile = [90, 95, 97.5, 99]\n",
    "\n",
    "for p in percentile:\n",
    "    print(f'{p}th percentile : {np.percentile(error_arr, p)}')"
   ]
  },
  {
   "cell_type": "code",
   "execution_count": null,
   "id": "5759137a",
   "metadata": {},
   "outputs": [],
   "source": []
  }
 ],
 "metadata": {
  "kernelspec": {
   "display_name": "venv",
   "language": "python",
   "name": "python3"
  },
  "language_info": {
   "codemirror_mode": {
    "name": "ipython",
    "version": 3
   },
   "file_extension": ".py",
   "mimetype": "text/x-python",
   "name": "python",
   "nbconvert_exporter": "python",
   "pygments_lexer": "ipython3",
   "version": "3.12.7"
  }
 },
 "nbformat": 4,
 "nbformat_minor": 5
}
